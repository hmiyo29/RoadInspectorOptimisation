{
 "cells": [
  {
   "cell_type": "markdown",
   "metadata": {
    "pycharm": {
     "name": "#%% md\n"
    }
   },
   "source": [
    "# The airplane problem"
   ]
  },
  {
   "cell_type": "markdown",
   "metadata": {
    "pycharm": {
     "name": "#%% md\n"
    }
   },
   "source": [
    "## Problem description"
   ]
  },
  {
   "cell_type": "markdown",
   "metadata": {
    "pycharm": {
     "name": "#%% md\n"
    }
   },
   "source": [
    "A cargo airplane has three compartments for storing freight: Front, central and rear.\n",
    "\n",
    "\n",
    "Each one of those compartments has the following limitations in weight and space:"
   ]
  },
  {
   "cell_type": "code",
   "execution_count": 27,
   "metadata": {
    "pycharm": {
     "name": "#%%\n"
    }
   },
   "outputs": [
    {
     "data": {
      "text/html": [
       "<div>\n",
       "<style scoped>\n",
       "    .dataframe tbody tr th:only-of-type {\n",
       "        vertical-align: middle;\n",
       "    }\n",
       "\n",
       "    .dataframe tbody tr th {\n",
       "        vertical-align: top;\n",
       "    }\n",
       "\n",
       "    .dataframe thead th {\n",
       "        text-align: right;\n",
       "    }\n",
       "</style>\n",
       "<table border=\"1\" class=\"dataframe\">\n",
       "  <thead>\n",
       "    <tr style=\"text-align: right;\">\n",
       "      <th></th>\n",
       "      <th>Weight (ton)</th>\n",
       "      <th>Volume (meter cube)</th>\n",
       "    </tr>\n",
       "  </thead>\n",
       "  <tbody>\n",
       "    <tr>\n",
       "      <th>Front</th>\n",
       "      <td>8</td>\n",
       "      <td>12000</td>\n",
       "    </tr>\n",
       "    <tr>\n",
       "      <th>Center</th>\n",
       "      <td>12</td>\n",
       "      <td>10000</td>\n",
       "    </tr>\n",
       "    <tr>\n",
       "      <th>Rear</th>\n",
       "      <td>14</td>\n",
       "      <td>6000</td>\n",
       "    </tr>\n",
       "  </tbody>\n",
       "</table>\n",
       "</div>"
      ],
      "text/plain": [
       "        Weight (ton)  Volume (meter cube)\n",
       "Front              8                12000\n",
       "Center            12                10000\n",
       "Rear              14                 6000"
      ]
     },
     "execution_count": 27,
     "metadata": {},
     "output_type": "execute_result"
    }
   ],
   "source": [
    "import pandas as pd\n",
    "\n",
    "compartment_limits = pd.DataFrame(columns=['Weight (ton)', 'Volume (meter cube)'])\n",
    "compartment_limits.loc['Front']  = [8,  12000]\n",
    "compartment_limits.loc['Center'] = [12, 10000]\n",
    "compartment_limits.loc['Rear']   = [14, 6000]\n",
    "compartment_limits"
   ]
  },
  {
   "cell_type": "markdown",
   "metadata": {
    "pycharm": {
     "name": "#%% md\n"
    }
   },
   "source": [
    "The following maximum cargo is available to be transported from a warehouse:\n"
   ]
  },
  {
   "cell_type": "code",
   "execution_count": 28,
   "metadata": {
    "pycharm": {
     "name": "#%%\n"
    }
   },
   "outputs": [
    {
     "data": {
      "text/html": [
       "<div>\n",
       "<style scoped>\n",
       "    .dataframe tbody tr th:only-of-type {\n",
       "        vertical-align: middle;\n",
       "    }\n",
       "\n",
       "    .dataframe tbody tr th {\n",
       "        vertical-align: top;\n",
       "    }\n",
       "\n",
       "    .dataframe thead th {\n",
       "        text-align: right;\n",
       "    }\n",
       "</style>\n",
       "<table border=\"1\" class=\"dataframe\">\n",
       "  <thead>\n",
       "    <tr style=\"text-align: right;\">\n",
       "      <th></th>\n",
       "      <th>Weight limit (ton)</th>\n",
       "      <th>Volume per ton (meter cube)</th>\n",
       "    </tr>\n",
       "  </thead>\n",
       "  <tbody>\n",
       "    <tr>\n",
       "      <th>Type 1</th>\n",
       "      <td>18</td>\n",
       "      <td>180</td>\n",
       "    </tr>\n",
       "    <tr>\n",
       "      <th>Type 2</th>\n",
       "      <td>14</td>\n",
       "      <td>250</td>\n",
       "    </tr>\n",
       "    <tr>\n",
       "      <th>Type 3</th>\n",
       "      <td>20</td>\n",
       "      <td>300</td>\n",
       "    </tr>\n",
       "    <tr>\n",
       "      <th>Type 4</th>\n",
       "      <td>12</td>\n",
       "      <td>80</td>\n",
       "    </tr>\n",
       "  </tbody>\n",
       "</table>\n",
       "</div>"
      ],
      "text/plain": [
       "        Weight limit (ton)  Volume per ton (meter cube)\n",
       "Type 1                  18                          180\n",
       "Type 2                  14                          250\n",
       "Type 3                  20                          300\n",
       "Type 4                  12                           80"
      ]
     },
     "execution_count": 28,
     "metadata": {},
     "output_type": "execute_result"
    }
   ],
   "source": [
    "cargo_limits = pd.DataFrame(columns=['Weight limit (ton)', 'Volume per ton (meter cube)'])\n",
    "cargo_limits.loc['Type 1'] = [18, 180]\n",
    "cargo_limits.loc['Type 2'] = [14, 250]\n",
    "cargo_limits.loc['Type 3'] = [20, 300]\n",
    "cargo_limits.loc['Type 4'] = [12, 80]\n",
    "cargo_limits"
   ]
  },
  {
   "cell_type": "markdown",
   "metadata": {
    "pycharm": {
     "name": "#%% md\n"
    }
   },
   "source": [
    "The profit associated to transporting one ton is 590 m.u., 580 m.u., 580 m.u. and 600 m.u., respectively for cargo types 1, 2, 3 and 4.\n"
   ]
  },
  {
   "cell_type": "code",
   "execution_count": 29,
   "metadata": {
    "pycharm": {
     "name": "#%%\n"
    }
   },
   "outputs": [
    {
     "data": {
      "text/html": [
       "<div>\n",
       "<style scoped>\n",
       "    .dataframe tbody tr th:only-of-type {\n",
       "        vertical-align: middle;\n",
       "    }\n",
       "\n",
       "    .dataframe tbody tr th {\n",
       "        vertical-align: top;\n",
       "    }\n",
       "\n",
       "    .dataframe thead th {\n",
       "        text-align: right;\n",
       "    }\n",
       "</style>\n",
       "<table border=\"1\" class=\"dataframe\">\n",
       "  <thead>\n",
       "    <tr style=\"text-align: right;\">\n",
       "      <th></th>\n",
       "      <th>Weight limit (ton)</th>\n",
       "      <th>Volume per ton (meter cube)</th>\n",
       "      <th>Profit</th>\n",
       "    </tr>\n",
       "  </thead>\n",
       "  <tbody>\n",
       "    <tr>\n",
       "      <th>Type 1</th>\n",
       "      <td>18</td>\n",
       "      <td>180</td>\n",
       "      <td>590</td>\n",
       "    </tr>\n",
       "    <tr>\n",
       "      <th>Type 2</th>\n",
       "      <td>14</td>\n",
       "      <td>250</td>\n",
       "      <td>580</td>\n",
       "    </tr>\n",
       "    <tr>\n",
       "      <th>Type 3</th>\n",
       "      <td>20</td>\n",
       "      <td>300</td>\n",
       "      <td>580</td>\n",
       "    </tr>\n",
       "    <tr>\n",
       "      <th>Type 4</th>\n",
       "      <td>12</td>\n",
       "      <td>80</td>\n",
       "      <td>600</td>\n",
       "    </tr>\n",
       "  </tbody>\n",
       "</table>\n",
       "</div>"
      ],
      "text/plain": [
       "        Weight limit (ton)  Volume per ton (meter cube)  Profit\n",
       "Type 1                  18                          180     590\n",
       "Type 2                  14                          250     580\n",
       "Type 3                  20                          300     580\n",
       "Type 4                  12                           80     600"
      ]
     },
     "execution_count": 29,
     "metadata": {},
     "output_type": "execute_result"
    }
   ],
   "source": [
    "cargo_limits['Profit'] = [590, 580, 580, 600]\n",
    "cargo_limits"
   ]
  },
  {
   "cell_type": "markdown",
   "metadata": {
    "pycharm": {
     "name": "#%% md\n"
    }
   },
   "source": [
    "Build a mathematical model to define the amount of cargo of each type that should be transported and how it should be distributed in order to be efficient during the flight. The objective is to maximize the profit while satisfying the operational constraints mentioned."
   ]
  },
  {
   "cell_type": "markdown",
   "metadata": {
    "pycharm": {
     "name": "#%% md\n"
    }
   },
   "source": [
    "## Modeling\n",
    "\n",
    "\n",
    "Let's first create multidicts to efficiently store compartment and cargo limits."
   ]
  },
  {
   "cell_type": "code",
   "execution_count": 30,
   "metadata": {
    "pycharm": {
     "name": "#%%\n"
    }
   },
   "outputs": [],
   "source": [
    "import gurobipy as gp\n",
    "\n",
    "model = gp.Model()"
   ]
  },
  {
   "cell_type": "code",
   "execution_count": 31,
   "metadata": {
    "id": "KtFPdVJWzMPQ",
    "pycharm": {
     "name": "#%%\n"
    }
   },
   "outputs": [],
   "source": [
    "# cargo limits\n",
    "cargo_type, cargo_weight, cargo_volume, cargo_profit = gp.multidict({\n",
    "    'Type1': [18, 180, 590],\n",
    "    'Type2': [14, 250, 580],\n",
    "    'Type3': [20, 300, 580],\n",
    "    'Type4': [12, 80,  600]\n",
    "})\n",
    "\n",
    "# compartment limits\n",
    "compartment_type, compartment_weight, compartment_volume = gp. multidict({\n",
    "    'Front': [8,  12000],\n",
    "    'Center':[12, 10000],\n",
    "    'Rear':  [14, 6000]\n",
    "})"
   ]
  },
  {
   "cell_type": "markdown",
   "metadata": {
    "pycharm": {
     "name": "#%% md\n"
    }
   },
   "source": [
    "### Decision variables\n",
    "\n",
    "$x_{ij}$: binary variable. 1 if road inspector at nore $i$ handles incident $j$.  $i$ in $I$ & $j$ in $J$"
   ]
  },
  {
   "cell_type": "code",
   "execution_count": 32,
   "metadata": {
    "id": "vGhky0pp0LIW",
    "pycharm": {
     "name": "#%%\n"
    }
   },
   "outputs": [],
   "source": [
    "## decision variables\n",
    "x = model.addVars(len(cargo_type),len(compartment_type), vtype = gp.GRB.CONTINUOUS, name = 'x')\n",
    "model.update()"
   ]
  },
  {
   "cell_type": "markdown",
   "metadata": {
    "pycharm": {
     "name": "#%% md\n"
    }
   },
   "source": [
    "### Objective function\n",
    "\n",
    "If we define $P_i$ as the profit obtained for one ton of cargo of type $i \\in \\{1,2,3,4\\}$ then the objective function is to maximize the profit in monetary units:\n",
    "\n",
    "$ max Z = \\sum_{i \\in \\{1,2,3,4\\}}{\\sum_{j \\in \\{1,2,3\\}}{ P_i . x_{ij}} $\n"
   ]
  },
  {
   "cell_type": "code",
   "execution_count": 33,
   "metadata": {
    "id": "pF3X3ryc59X6",
    "pycharm": {
     "name": "#%%\n"
    }
   },
   "outputs": [],
   "source": [
    "# set objectives\n",
    "objective = gp.quicksum(cargo_profit[cargo_type[i]] * x[i, j]\n",
    "                               for j in range(len(compartment_type))\n",
    "                               for i in range(len(cargo_type)))\n",
    "\n",
    "model.setObjective(objective, gp.GRB.MAXIMIZE)"
   ]
  },
  {
   "cell_type": "markdown",
   "metadata": {
    "pycharm": {
     "name": "#%% md\n"
    }
   },
   "source": [
    "### Constraints\n",
    "\n",
    "1. Weight available to be transported (sum of all compartments) at the warehouse is the cargo weight.\n",
    "2. Weight limits on the compartments (each compartment (sum of all cargo types) has a weight limit).\n",
    "3. Volume limits on the compartments (each compartment (sum of all cargo types) has a volume limit).\n"
   ]
  },
  {
   "cell_type": "code",
   "execution_count": 34,
   "metadata": {
    "pycharm": {
     "name": "#%%\n"
    }
   },
   "outputs": [
    {
     "data": {
      "text/plain": [
       "{0: <gurobi.Constr *Awaiting Model Update*>,\n",
       " 1: <gurobi.Constr *Awaiting Model Update*>,\n",
       " 2: <gurobi.Constr *Awaiting Model Update*>,\n",
       " 3: <gurobi.Constr *Awaiting Model Update*>}"
      ]
     },
     "execution_count": 34,
     "metadata": {},
     "output_type": "execute_result"
    }
   ],
   "source": [
    "## constraints\n",
    "# 1. cargo type weight limits\n",
    "model.addConstrs((gp.quicksum(x[i, j] for j in range(len(compartment_type))) <= cargo_weight[cargo_type[i]]\n",
    "                  for i in range(len(cargo_type))), name ='Max available cargo to carry')"
   ]
  },
  {
   "cell_type": "code",
   "execution_count": 35,
   "metadata": {
    "pycharm": {
     "name": "#%%\n"
    }
   },
   "outputs": [
    {
     "data": {
      "text/plain": [
       "{0: <gurobi.Constr *Awaiting Model Update*>,\n",
       " 1: <gurobi.Constr *Awaiting Model Update*>,\n",
       " 2: <gurobi.Constr *Awaiting Model Update*>}"
      ]
     },
     "execution_count": 35,
     "metadata": {},
     "output_type": "execute_result"
    }
   ],
   "source": [
    "# 2. compartment weight limits\n",
    "model.addConstrs((gp.quicksum(x[i, j] for i in range(len(cargo_type))) <= compartment_weight[compartment_type[j]]\n",
    "                  for j in range(len(compartment_type))), name ='Weight limits on the compartments')"
   ]
  },
  {
   "cell_type": "code",
   "execution_count": 36,
   "metadata": {
    "pycharm": {
     "name": "#%%\n"
    }
   },
   "outputs": [
    {
     "data": {
      "text/plain": [
       "{0: <gurobi.Constr *Awaiting Model Update*>,\n",
       " 1: <gurobi.Constr *Awaiting Model Update*>,\n",
       " 2: <gurobi.Constr *Awaiting Model Update*>}"
      ]
     },
     "execution_count": 36,
     "metadata": {},
     "output_type": "execute_result"
    }
   ],
   "source": [
    "# 3. compartment volume limitations\n",
    "model.addConstrs((gp.quicksum(x[i, j]*cargo_volume[cargo_type[i]] for i in range(len(cargo_type))) <= compartment_volume[compartment_type[j]]\n",
    "                  for j in range(len(compartment_type))), name ='Volume limits on the compartments')"
   ]
  },
  {
   "cell_type": "markdown",
   "metadata": {
    "pycharm": {
     "name": "#%% md\n"
    }
   },
   "source": [
    "### Complete model"
   ]
  },
  {
   "cell_type": "code",
   "execution_count": 37,
   "metadata": {
    "pycharm": {
     "name": "#%%\n"
    }
   },
   "outputs": [
    {
     "name": "stdout",
     "output_type": "stream",
     "text": [
      "Maximize\n",
      "590.0 x[0,0] + 590.0 x[0,1] + 590.0 x[0,2] + 580.0 x[1,0] + 580.0 x[1,1]\n",
      "+ 580.0 x[1,2] + 580.0 x[2,0] + 580.0 x[2,1] + 580.0 x[2,2] + 600.0 x[3,0]\n",
      "+ 600.0 x[3,1] + 600.0 x[3,2]\n",
      "Subject To\n",
      "  Max available cargo to carry[0]: x[0,0] + x[0,1] + x[0,2] <= 18\n",
      "  Max available cargo to carry[1]: x[1,0] + x[1,1] + x[1,2] <= 14\n",
      "  Max available cargo to carry[2]: x[2,0] + x[2,1] + x[2,2] <= 20\n",
      "  Max available cargo to carry[3]: x[3,0] + x[3,1] + x[3,2] <= 12\n",
      "  Weight limits on the compartments[0]: x[0,0] + x[1,0] + x[2,0] + x[3,0] <= 8\n",
      "  Weight limits on the compartments[1]: x[0,1] + x[1,1] + x[2,1] + x[3,1] <= 12\n",
      "  Weight limits on the compartments[2]: x[0,2] + x[1,2] + x[2,2] + x[3,2] <= 14\n",
      "Volume limits on the compartments[0]: 180.0 x[0,0] + 250.0 x[1,0] + 300.0 x[2,0] + 80.0\n",
      " x[3,0] <= 12000\n",
      "Volume limits on the compartments[1]: 180.0 x[0,1] + 250.0 x[1,1] + 300.0 x[2,1] + 80.0\n",
      " x[3,1] <= 10000\n",
      "Volume limits on the compartments[2]: 180.0 x[0,2] + 250.0 x[1,2] + 300.0 x[2,2] + 80.0\n",
      " x[3,2] <= 6000\n"
     ]
    }
   ],
   "source": [
    "model.update()\n",
    "model.display()"
   ]
  },
  {
   "cell_type": "markdown",
   "metadata": {
    "pycharm": {
     "name": "#%% md\n"
    }
   },
   "source": [
    "### Solve"
   ]
  },
  {
   "cell_type": "code",
   "execution_count": 38,
   "metadata": {
    "colab": {
     "base_uri": "https://localhost:8080/"
    },
    "id": "D5wafjv76D-b",
    "outputId": "c02d63d9-86c5-4c76-964e-767f5bb2ecd7",
    "pycharm": {
     "name": "#%%\n"
    }
   },
   "outputs": [
    {
     "name": "stdout",
     "output_type": "stream",
     "text": [
      "Gurobi Optimizer version 10.0.0 build v10.0.0rc2 (win64)\n",
      "\n",
      "CPU model: 11th Gen Intel(R) Core(TM) i7-1165G7 @ 2.80GHz, instruction set [SSE2|AVX|AVX2|AVX512]\n",
      "Thread count: 4 physical cores, 8 logical processors, using up to 8 threads\n",
      "\n",
      "Optimize a model with 10 rows, 12 columns and 36 nonzeros\n",
      "Model fingerprint: 0x124e98cc\n",
      "Coefficient statistics:\n",
      "  Matrix range     [1e+00, 3e+02]\n",
      "  Objective range  [6e+02, 6e+02]\n",
      "  Bounds range     [0e+00, 0e+00]\n",
      "  RHS range        [8e+00, 1e+04]\n",
      "Presolve removed 2 rows and 0 columns\n",
      "Presolve time: 0.00s\n",
      "Presolved: 8 rows, 12 columns, 28 nonzeros\n",
      "\n",
      "Iteration    Objective       Primal Inf.    Dual Inf.      Time\n",
      "       0    3.7540000e+04   2.199100e+01   0.000000e+00      0s\n",
      "      11    2.0140000e+04   0.000000e+00   0.000000e+00      0s\n",
      "\n",
      "Solved in 11 iterations and 0.01 seconds (0.00 work units)\n",
      "Optimal objective  2.014000000e+04\n"
     ]
    }
   ],
   "source": [
    "model.optimize()"
   ]
  },
  {
   "cell_type": "code",
   "execution_count": 39,
   "metadata": {
    "colab": {
     "base_uri": "https://localhost:8080/"
    },
    "id": "li27NEAc6xu0",
    "outputId": "78abe3c7-0c68-4b20-ca85-6288dc074699",
    "pycharm": {
     "name": "#%%\n"
    }
   },
   "outputs": [
    {
     "name": "stdout",
     "output_type": "stream",
     "text": [
      "x[0,0]: 4.0\n",
      "x[0,1]: 12.0\n",
      "x[0,2]: 2.0\n",
      "x[1,0]: 4.0\n",
      "x[1,1]: 0.0\n",
      "x[1,2]: 0.0\n",
      "x[2,0]: 0.0\n",
      "x[2,1]: 0.0\n",
      "x[2,2]: 0.0\n",
      "x[3,0]: 0.0\n",
      "x[3,1]: 0.0\n",
      "x[3,2]: 12.0\n"
     ]
    }
   ],
   "source": [
    "for var in model.getVars():\n",
    "    print(f\"{var.varName}: {round(var.X, 3)}\")"
   ]
  },
  {
   "cell_type": "code",
   "execution_count": 40,
   "metadata": {
    "colab": {
     "base_uri": "https://localhost:8080/"
    },
    "id": "x28fTyje7QFx",
    "outputId": "638c2fdd-df68-4676-fd2a-44c36524951a",
    "pycharm": {
     "name": "#%%\n"
    }
   },
   "outputs": [
    {
     "name": "stdout",
     "output_type": "stream",
     "text": [
      "Optimal Objective Value: 20140.0\n"
     ]
    }
   ],
   "source": [
    "print(\"Optimal Objective Value:\", model.objVal)"
   ]
  },
  {
   "cell_type": "code",
   "execution_count": 41,
   "metadata": {
    "pycharm": {
     "name": "#%%\n"
    }
   },
   "outputs": [
    {
     "data": {
      "image/png": "[encoded data removed]",
      "text/plain": [
       "<Figure size 640x480 with 1 Axes>"
      ]
     },
     "metadata": {},
     "output_type": "display_data"
    }
   ],
   "source": [
    "import numpy as np\n",
    "\n",
    "def plot_results(x, cargo_type, compartment_type):\n",
    "\n",
    "    results = np.zeros([len(cargo_type), len(compartment_type)])\n",
    "\n",
    "    for i in range(len(cargo_type)):\n",
    "      for j in range(len(compartment_type)):\n",
    "        results[i, j] = x[i, j].X\n",
    "\n",
    "    optimal_values = pd.DataFrame(results, index=cargo_type, columns=compartment_type)\n",
    "    ax = optimal_values.transpose().plot.bar(stacked=True)\n",
    "    ax.set_xlabel('Compartment')\n",
    "    ax.set_ylabel('Cargo weight (ton)')\n",
    "\n",
    "plot_results(x, cargo_type, compartment_type)"
   ]
  },
  {
   "cell_type": "markdown",
   "metadata": {
    "pycharm": {
     "name": "#%% md\n"
    }
   },
   "source": [
    "## Challenges: adding more constraints\n",
    "\n",
    "Add the following constraints (each one individually) to the model and solve it again:\n",
    "\n",
    "1) For efficiency purposes the total weight transported in all compartments must be the same.\n",
    "2) The weight of type I must be double the Type II and III together.\n",
    "3) The weight of cargo in the frontal area must be at least double the cargo in the rear and central areas together.\n"
   ]
  },
  {
   "cell_type": "markdown",
   "metadata": {
    "pycharm": {
     "name": "#%% md\n"
    }
   },
   "source": [
    "## Solutions"
   ]
  },
  {
   "cell_type": "markdown",
   "metadata": {
    "pycharm": {
     "name": "#%% md\n"
    }
   },
   "source": [
    "### Challenge 1"
   ]
  },
  {
   "cell_type": "code",
   "execution_count": 42,
   "metadata": {
    "pycharm": {
     "name": "#%%\n"
    }
   },
   "outputs": [
    {
     "name": "stdout",
     "output_type": "stream",
     "text": [
      "Discarded solution information including additional information\n",
      "Maximize\n",
      "590.0 x[0,0] + 590.0 x[0,1] + 590.0 x[0,2] + 580.0 x[1,0] + 580.0 x[1,1]\n",
      "+ 580.0 x[1,2] + 580.0 x[2,0] + 580.0 x[2,1] + 580.0 x[2,2] + 600.0 x[3,0]\n",
      "+ 600.0 x[3,1] + 600.0 x[3,2]\n",
      "Subject To\n",
      "  Max available cargo to carry[0]: x[0,0] + x[0,1] + x[0,2] <= 18\n",
      "  Max available cargo to carry[1]: x[1,0] + x[1,1] + x[1,2] <= 14\n",
      "  Max available cargo to carry[2]: x[2,0] + x[2,1] + x[2,2] <= 20\n",
      "  Max available cargo to carry[3]: x[3,0] + x[3,1] + x[3,2] <= 12\n",
      "  Weight limits on the compartments[0]: x[0,0] + x[1,0] + x[2,0] + x[3,0] <= 8\n",
      "  Weight limits on the compartments[1]: x[0,1] + x[1,1] + x[2,1] + x[3,1] <= 12\n",
      "  Weight limits on the compartments[2]: x[0,2] + x[1,2] + x[2,2] + x[3,2] <= 14\n",
      "Volume limits on the compartments[0]: 180.0 x[0,0] + 250.0 x[1,0] + 300.0 x[2,0] + 80.0\n",
      " x[3,0] <= 12000\n",
      "Volume limits on the compartments[1]: 180.0 x[0,1] + 250.0 x[1,1] + 300.0 x[2,1] + 80.0\n",
      " x[3,1] <= 10000\n",
      "Volume limits on the compartments[2]: 180.0 x[0,2] + 250.0 x[1,2] + 300.0 x[2,2] + 80.0\n",
      " x[3,2] <= 6000\n",
      "R10: -1.0 x[0,0] + x[0,1] + -1.0 x[1,0] + x[1,1] + -1.0 x[2,0] + x[2,1] + -1.0 x[3,0] +\n",
      " x[3,1] = 0\n",
      "R11: -1.0 x[0,1] + x[0,2] + -1.0 x[1,1] + x[1,2] + -1.0 x[2,1] + x[2,2] + -1.0 x[3,1] +\n",
      " x[3,2] = 0\n"
     ]
    }
   ],
   "source": [
    "# 1) For efficiency purposes the total weight transported in all compartments must be the same.\n",
    "\n",
    "# discard solution information but keep the model\n",
    "model.reset(1)\n",
    "\n",
    "model.addConstrs(gp.quicksum(x[i, j+1] for i in range(len(cargo_type)))\n",
    "                 == gp.quicksum(x[i, j] for i in range(len(cargo_type)))\n",
    "                 for j in range(len(compartment_type) - 1))\n",
    "\n",
    "model.update()\n",
    "model.display()"
   ]
  },
  {
   "cell_type": "code",
   "execution_count": 43,
   "metadata": {
    "pycharm": {
     "name": "#%%\n"
    }
   },
   "outputs": [
    {
     "name": "stdout",
     "output_type": "stream",
     "text": [
      "Gurobi Optimizer version 10.0.0 build v10.0.0rc2 (win64)\n",
      "\n",
      "CPU model: 11th Gen Intel(R) Core(TM) i7-1165G7 @ 2.80GHz, instruction set [SSE2|AVX|AVX2|AVX512]\n",
      "Thread count: 4 physical cores, 8 logical processors, using up to 8 threads\n",
      "\n",
      "Optimize a model with 12 rows, 12 columns and 52 nonzeros\n",
      "Model fingerprint: 0x7559e95d\n",
      "Coefficient statistics:\n",
      "  Matrix range     [1e+00, 3e+02]\n",
      "  Objective range  [6e+02, 6e+02]\n",
      "  Bounds range     [0e+00, 0e+00]\n",
      "  RHS range        [8e+00, 1e+04]\n",
      "Presolve removed 2 rows and 0 columns\n",
      "Presolve time: 0.01s\n",
      "Presolved: 10 rows, 12 columns, 44 nonzeros\n",
      "\n",
      "Iteration    Objective       Primal Inf.    Dual Inf.      Time\n",
      "       0    3.7540000e+04   3.799100e+01   0.000000e+00      0s\n",
      "      12    1.4280000e+04   0.000000e+00   0.000000e+00      0s\n",
      "\n",
      "Solved in 12 iterations and 0.01 seconds (0.00 work units)\n",
      "Optimal objective  1.428000000e+04\n"
     ]
    }
   ],
   "source": [
    "model.optimize()"
   ]
  },
  {
   "cell_type": "code",
   "execution_count": 44,
   "metadata": {
    "pycharm": {
     "name": "#%%\n"
    }
   },
   "outputs": [
    {
     "data": {
      "image/png": "[encoded data removed]",
      "text/plain": [
       "<Figure size 640x480 with 1 Axes>"
      ]
     },
     "metadata": {},
     "output_type": "display_data"
    }
   ],
   "source": [
    "plot_results(x, cargo_type, compartment_type)"
   ]
  },
  {
   "cell_type": "markdown",
   "metadata": {
    "pycharm": {
     "name": "#%% md\n"
    }
   },
   "source": [
    "### Challenge 2"
   ]
  },
  {
   "cell_type": "code",
   "execution_count": 45,
   "metadata": {
    "pycharm": {
     "name": "#%%\n"
    }
   },
   "outputs": [
    {
     "name": "stdout",
     "output_type": "stream",
     "text": [
      "Discarded solution information including additional information\n"
     ]
    }
   ],
   "source": [
    "# discard solution\n",
    "model.reset(1)\n",
    "# remove the last two constraints that we added recently\n",
    "model.remove(model.getConstrs()[-2:])"
   ]
  },
  {
   "cell_type": "code",
   "execution_count": 46,
   "metadata": {
    "pycharm": {
     "name": "#%%\n"
    }
   },
   "outputs": [
    {
     "name": "stdout",
     "output_type": "stream",
     "text": [
      "Maximize\n",
      "590.0 x[0,0] + 590.0 x[0,1] + 590.0 x[0,2] + 580.0 x[1,0] + 580.0 x[1,1]\n",
      "+ 580.0 x[1,2] + 580.0 x[2,0] + 580.0 x[2,1] + 580.0 x[2,2] + 600.0 x[3,0]\n",
      "+ 600.0 x[3,1] + 600.0 x[3,2]\n",
      "Subject To\n",
      "  Max available cargo to carry[0]: x[0,0] + x[0,1] + x[0,2] <= 18\n",
      "  Max available cargo to carry[1]: x[1,0] + x[1,1] + x[1,2] <= 14\n",
      "  Max available cargo to carry[2]: x[2,0] + x[2,1] + x[2,2] <= 20\n",
      "  Max available cargo to carry[3]: x[3,0] + x[3,1] + x[3,2] <= 12\n",
      "  Weight limits on the compartments[0]: x[0,0] + x[1,0] + x[2,0] + x[3,0] <= 8\n",
      "  Weight limits on the compartments[1]: x[0,1] + x[1,1] + x[2,1] + x[3,1] <= 12\n",
      "  Weight limits on the compartments[2]: x[0,2] + x[1,2] + x[2,2] + x[3,2] <= 14\n",
      "Volume limits on the compartments[0]: 180.0 x[0,0] + 250.0 x[1,0] + 300.0 x[2,0] + 80.0\n",
      " x[3,0] <= 12000\n",
      "Volume limits on the compartments[1]: 180.0 x[0,1] + 250.0 x[1,1] + 300.0 x[2,1] + 80.0\n",
      " x[3,1] <= 10000\n",
      "Volume limits on the compartments[2]: 180.0 x[0,2] + 250.0 x[1,2] + 300.0 x[2,2] + 80.0\n",
      " x[3,2] <= 6000\n",
      "R12: x[0,0] + x[0,1] + x[0,2] + -2.0 x[1,0] + -2.0 x[1,1] + -2.0 x[1,2] + -2.0 x[2,0] +\n",
      " -2.0 x[2,1] + -2.0 x[2,2] = 0\n"
     ]
    }
   ],
   "source": [
    "# 2) The weight of type I must be double the Type II and III together.\n",
    "\n",
    "model.addConstr(gp.quicksum(x[0, j] for j in range(len(compartment_type)))\n",
    "                 == 2 * (gp.quicksum(x[1, j] for j in range(len(compartment_type)))\n",
    "                        + gp.quicksum(x[2, j] for j in range(len(compartment_type)))))\n",
    "\n",
    "model.update()\n",
    "model.display()"
   ]
  },
  {
   "cell_type": "code",
   "execution_count": 47,
   "metadata": {
    "pycharm": {
     "name": "#%%\n"
    }
   },
   "outputs": [
    {
     "name": "stdout",
     "output_type": "stream",
     "text": [
      "Gurobi Optimizer version 10.0.0 build v10.0.0rc2 (win64)\n",
      "\n",
      "CPU model: 11th Gen Intel(R) Core(TM) i7-1165G7 @ 2.80GHz, instruction set [SSE2|AVX|AVX2|AVX512]\n",
      "Thread count: 4 physical cores, 8 logical processors, using up to 8 threads\n",
      "\n",
      "Optimize a model with 11 rows, 12 columns and 45 nonzeros\n",
      "Model fingerprint: 0x0b17eb7b\n",
      "Coefficient statistics:\n",
      "  Matrix range     [1e+00, 3e+02]\n",
      "  Objective range  [6e+02, 6e+02]\n",
      "  Bounds range     [0e+00, 0e+00]\n",
      "  RHS range        [8e+00, 1e+04]\n",
      "Presolve removed 2 rows and 0 columns\n",
      "Presolve time: 0.01s\n",
      "Presolved: 9 rows, 12 columns, 37 nonzeros\n",
      "\n",
      "Iteration    Objective       Primal Inf.    Dual Inf.      Time\n",
      "       0    3.7540000e+04   2.824100e+01   0.000000e+00      0s\n",
      "      11    2.0106667e+04   0.000000e+00   0.000000e+00      0s\n",
      "\n",
      "Solved in 11 iterations and 0.01 seconds (0.00 work units)\n",
      "Optimal objective  2.010666667e+04\n"
     ]
    }
   ],
   "source": [
    "model.optimize()"
   ]
  },
  {
   "cell_type": "code",
   "execution_count": 48,
   "metadata": {
    "pycharm": {
     "name": "#%%\n"
    }
   },
   "outputs": [
    {
     "data": {
      "image/png": "[encoded data removed]",
      "text/plain": [
       "<Figure size 640x480 with 1 Axes>"
      ]
     },
     "metadata": {},
     "output_type": "display_data"
    }
   ],
   "source": [
    "plot_results(x, cargo_type, compartment_type)"
   ]
  },
  {
   "cell_type": "markdown",
   "metadata": {
    "pycharm": {
     "name": "#%% md\n"
    }
   },
   "source": [
    "### Challenge 3"
   ]
  },
  {
   "cell_type": "code",
   "execution_count": 49,
   "metadata": {
    "pycharm": {
     "name": "#%%\n"
    }
   },
   "outputs": [
    {
     "name": "stdout",
     "output_type": "stream",
     "text": [
      "Discarded solution information including additional information\n"
     ]
    }
   ],
   "source": [
    "# discard solution\n",
    "model.reset(1)\n",
    "# remove the constraint that we added recently\n",
    "model.remove(model.getConstrs()[-1])"
   ]
  },
  {
   "cell_type": "code",
   "execution_count": 50,
   "metadata": {
    "pycharm": {
     "name": "#%%\n"
    }
   },
   "outputs": [
    {
     "name": "stdout",
     "output_type": "stream",
     "text": [
      "Maximize\n",
      "590.0 x[0,0] + 590.0 x[0,1] + 590.0 x[0,2] + 580.0 x[1,0] + 580.0 x[1,1]\n",
      "+ 580.0 x[1,2] + 580.0 x[2,0] + 580.0 x[2,1] + 580.0 x[2,2] + 600.0 x[3,0]\n",
      "+ 600.0 x[3,1] + 600.0 x[3,2]\n",
      "Subject To\n",
      "  Max available cargo to carry[0]: x[0,0] + x[0,1] + x[0,2] <= 18\n",
      "  Max available cargo to carry[1]: x[1,0] + x[1,1] + x[1,2] <= 14\n",
      "  Max available cargo to carry[2]: x[2,0] + x[2,1] + x[2,2] <= 20\n",
      "  Max available cargo to carry[3]: x[3,0] + x[3,1] + x[3,2] <= 12\n",
      "  Weight limits on the compartments[0]: x[0,0] + x[1,0] + x[2,0] + x[3,0] <= 8\n",
      "  Weight limits on the compartments[1]: x[0,1] + x[1,1] + x[2,1] + x[3,1] <= 12\n",
      "  Weight limits on the compartments[2]: x[0,2] + x[1,2] + x[2,2] + x[3,2] <= 14\n",
      "Volume limits on the compartments[0]: 180.0 x[0,0] + 250.0 x[1,0] + 300.0 x[2,0] + 80.0\n",
      " x[3,0] <= 12000\n",
      "Volume limits on the compartments[1]: 180.0 x[0,1] + 250.0 x[1,1] + 300.0 x[2,1] + 80.0\n",
      " x[3,1] <= 10000\n",
      "Volume limits on the compartments[2]: 180.0 x[0,2] + 250.0 x[1,2] + 300.0 x[2,2] + 80.0\n",
      " x[3,2] <= 6000\n",
      "R13: x[0,0] + -2.0 x[0,1] + -2.0 x[0,2] + x[1,0] + -2.0 x[1,1] + -2.0 x[1,2] + x[2,0] +\n",
      " -2.0 x[2,1] + -2.0 x[2,2] + x[3,0] + -2.0 x[3,1] + -2.0 x[3,2] >= 0\n"
     ]
    }
   ],
   "source": [
    "# 3) The weight of cargo in the frontal area must be at least double the cargo in the rear and central areas together.\n",
    "\n",
    "model.addConstr(gp.quicksum(x[i, 0] for i in range(len(cargo_type)))\n",
    "                >= 2 * (gp.quicksum(x[i, 1] for i in range(len(cargo_type))) +\n",
    "                        gp.quicksum(x[i, 2] for i in range(len(cargo_type))))\n",
    ")\n",
    "\n",
    "model.update()\n",
    "model.display()"
   ]
  },
  {
   "cell_type": "code",
   "execution_count": 51,
   "metadata": {
    "pycharm": {
     "name": "#%%\n"
    }
   },
   "outputs": [
    {
     "name": "stdout",
     "output_type": "stream",
     "text": [
      "Gurobi Optimizer version 10.0.0 build v10.0.0rc2 (win64)\n",
      "\n",
      "CPU model: 11th Gen Intel(R) Core(TM) i7-1165G7 @ 2.80GHz, instruction set [SSE2|AVX|AVX2|AVX512]\n",
      "Thread count: 4 physical cores, 8 logical processors, using up to 8 threads\n",
      "\n",
      "Optimize a model with 11 rows, 12 columns and 48 nonzeros\n",
      "Model fingerprint: 0xd5032217\n",
      "Coefficient statistics:\n",
      "  Matrix range     [1e+00, 3e+02]\n",
      "  Objective range  [6e+02, 6e+02]\n",
      "  Bounds range     [0e+00, 0e+00]\n",
      "  RHS range        [8e+00, 1e+04]\n",
      "Presolve removed 2 rows and 0 columns\n",
      "Presolve time: 0.00s\n",
      "Presolved: 9 rows, 12 columns, 40 nonzeros\n",
      "\n",
      "Iteration    Objective       Primal Inf.    Dual Inf.      Time\n",
      "       0    3.7540000e+04   2.199100e+01   0.000000e+00      0s\n",
      "       9    7.2000000e+03   0.000000e+00   0.000000e+00      0s\n",
      "\n",
      "Solved in 9 iterations and 0.00 seconds (0.00 work units)\n",
      "Optimal objective  7.200000000e+03\n"
     ]
    }
   ],
   "source": [
    "model.optimize()"
   ]
  },
  {
   "cell_type": "code",
   "execution_count": 52,
   "metadata": {
    "pycharm": {
     "name": "#%%\n"
    }
   },
   "outputs": [
    {
     "data": {
      "image/png": "[encoded data removed]",
      "text/plain": [
       "<Figure size 640x480 with 1 Axes>"
      ]
     },
     "metadata": {},
     "output_type": "display_data"
    }
   ],
   "source": [
    "plot_results(x, cargo_type, compartment_type)"
   ]
  }
 ],
 "metadata": {
  "colab": {
   "collapsed_sections": [],
   "name": "Airplane problem",
   "provenance": []
  },
  "kernelspec": {
   "display_name": "Python 3 (ipykernel)",
   "language": "python",
   "name": "python3"
  },
  "language_info": {
   "codemirror_mode": {
    "name": "ipython",
    "version": 3
   },
   "file_extension": ".py",
   "mimetype": "text/x-python",
   "name": "python",
   "nbconvert_exporter": "python",
   "pygments_lexer": "ipython3",
   "version": "3.9.17"
  }
 },
 "nbformat": 4,
 "nbformat_minor": 1
}
