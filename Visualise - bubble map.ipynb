{
 "cells": [
  {
   "cell_type": "code",
   "execution_count": 25,
   "id": "488faa4b",
   "metadata": {},
   "outputs": [],
   "source": [
    "%load_ext pycodestyle_magic"
   ]
  },
  {
   "cell_type": "code",
   "execution_count": 26,
   "id": "38e6f634",
   "metadata": {},
   "outputs": [],
   "source": [
    "%pycodestyle_on"
   ]
  },
  {
   "cell_type": "code",
   "execution_count": 27,
   "id": "9888e464",
   "metadata": {},
   "outputs": [],
   "source": [
    "# Import packages\n",
    "\n",
    "import plotly.express as px\n",
    "import numpy as np\n",
    "import pandas as pd\n",
    "import geopandas as gpd\n",
    "import shapely"
   ]
  },
  {
   "cell_type": "markdown",
   "id": "fc3bdd54",
   "metadata": {},
   "source": [
    "### Visualisation: Bubble Map of incidents"
   ]
  },
  {
   "cell_type": "markdown",
   "id": "e4716546",
   "metadata": {},
   "source": [
    "This part of code is made to make a bubble map of the number of incidents per zones. For the zones, we decided to apply COROP zoning system, which is higher granuality than provinces, but less detailed than municipalities. The zoning of COROP can be found in the website of CBS.  \n",
    "https://www.cbs.nl/nl-nl/achtergrond/2023/10/kaarten-regionale-indelingen-2023"
   ]
  },
  {
   "cell_type": "code",
   "execution_count": 28,
   "id": "48537a7b",
   "metadata": {},
   "outputs": [
    {
     "data": {
      "text/html": [
       "<div>\n",
       "<style scoped>\n",
       "    .dataframe tbody tr th:only-of-type {\n",
       "        vertical-align: middle;\n",
       "    }\n",
       "\n",
       "    .dataframe tbody tr th {\n",
       "        vertical-align: top;\n",
       "    }\n",
       "\n",
       "    .dataframe thead th {\n",
       "        text-align: right;\n",
       "    }\n",
       "</style>\n",
       "<table border=\"1\" class=\"dataframe\">\n",
       "  <thead>\n",
       "    <tr style=\"text-align: right;\">\n",
       "      <th></th>\n",
       "      <th>type</th>\n",
       "      <th>starttime_new</th>\n",
       "      <th>endtime_new</th>\n",
       "      <th>vild_primair_wegnummer</th>\n",
       "      <th>primaire_locatie_lengtegraad</th>\n",
       "      <th>primaire_locatie_breedtegraad</th>\n",
       "      <th>duration</th>\n",
       "    </tr>\n",
       "  </thead>\n",
       "  <tbody>\n",
       "    <tr>\n",
       "      <th>0</th>\n",
       "      <td>vehicle_obstruction</td>\n",
       "      <td>2019-08-28 12:11:32</td>\n",
       "      <td>2019-12-11 11:32:28</td>\n",
       "      <td>A1</td>\n",
       "      <td>4.974663</td>\n",
       "      <td>52.346931</td>\n",
       "      <td>151160.933333</td>\n",
       "    </tr>\n",
       "    <tr>\n",
       "      <th>1</th>\n",
       "      <td>vehicle_obstruction</td>\n",
       "      <td>2019-08-28 12:11:32</td>\n",
       "      <td>2019-12-11 11:32:28</td>\n",
       "      <td>A9</td>\n",
       "      <td>4.716725</td>\n",
       "      <td>52.514820</td>\n",
       "      <td>151160.933333</td>\n",
       "    </tr>\n",
       "    <tr>\n",
       "      <th>2</th>\n",
       "      <td>vehicle_obstruction</td>\n",
       "      <td>2019-08-28 12:11:32</td>\n",
       "      <td>2019-12-11 11:32:28</td>\n",
       "      <td>A9</td>\n",
       "      <td>4.738364</td>\n",
       "      <td>52.609730</td>\n",
       "      <td>151160.933333</td>\n",
       "    </tr>\n",
       "    <tr>\n",
       "      <th>3</th>\n",
       "      <td>vehicle_obstruction</td>\n",
       "      <td>2019-08-28 12:11:32</td>\n",
       "      <td>2019-12-11 11:32:28</td>\n",
       "      <td>A35</td>\n",
       "      <td>6.824692</td>\n",
       "      <td>52.204929</td>\n",
       "      <td>151160.933333</td>\n",
       "    </tr>\n",
       "    <tr>\n",
       "      <th>4</th>\n",
       "      <td>vehicle_obstruction</td>\n",
       "      <td>2019-08-28 12:11:32</td>\n",
       "      <td>2019-12-11 11:32:28</td>\n",
       "      <td>A4</td>\n",
       "      <td>4.346407</td>\n",
       "      <td>52.041920</td>\n",
       "      <td>151160.933333</td>\n",
       "    </tr>\n",
       "    <tr>\n",
       "      <th>...</th>\n",
       "      <td>...</td>\n",
       "      <td>...</td>\n",
       "      <td>...</td>\n",
       "      <td>...</td>\n",
       "      <td>...</td>\n",
       "      <td>...</td>\n",
       "      <td>...</td>\n",
       "    </tr>\n",
       "    <tr>\n",
       "      <th>88846</th>\n",
       "      <td>vehicle_obstruction</td>\n",
       "      <td>2019-12-31 23:43:49</td>\n",
       "      <td>2019-12-31 23:43:49</td>\n",
       "      <td>NaN</td>\n",
       "      <td>4.475721</td>\n",
       "      <td>51.893230</td>\n",
       "      <td>0.000000</td>\n",
       "    </tr>\n",
       "    <tr>\n",
       "      <th>88847</th>\n",
       "      <td>accident</td>\n",
       "      <td>2019-12-31 23:46:10</td>\n",
       "      <td>2019-12-31 23:46:10</td>\n",
       "      <td>N246</td>\n",
       "      <td>4.701406</td>\n",
       "      <td>52.443363</td>\n",
       "      <td>0.000000</td>\n",
       "    </tr>\n",
       "    <tr>\n",
       "      <th>88848</th>\n",
       "      <td>vehicle_obstruction</td>\n",
       "      <td>2019-12-31 23:47:01</td>\n",
       "      <td>2019-12-31 23:47:01</td>\n",
       "      <td>N31</td>\n",
       "      <td>5.922628</td>\n",
       "      <td>53.165226</td>\n",
       "      <td>0.000000</td>\n",
       "    </tr>\n",
       "    <tr>\n",
       "      <th>88849</th>\n",
       "      <td>vehicle_obstruction</td>\n",
       "      <td>2019-12-31 23:55:23</td>\n",
       "      <td>2019-12-31 23:55:23</td>\n",
       "      <td>A4</td>\n",
       "      <td>4.313686</td>\n",
       "      <td>51.442677</td>\n",
       "      <td>0.000000</td>\n",
       "    </tr>\n",
       "    <tr>\n",
       "      <th>88850</th>\n",
       "      <td>vehicle_obstruction</td>\n",
       "      <td>2019-12-31 23:56:54</td>\n",
       "      <td>2019-12-31 23:56:54</td>\n",
       "      <td>A4</td>\n",
       "      <td>4.701819</td>\n",
       "      <td>52.271004</td>\n",
       "      <td>0.000000</td>\n",
       "    </tr>\n",
       "  </tbody>\n",
       "</table>\n",
       "<p>88851 rows × 7 columns</p>\n",
       "</div>"
      ],
      "text/plain": [
       "                      type        starttime_new          endtime_new  \\\n",
       "0      vehicle_obstruction  2019-08-28 12:11:32  2019-12-11 11:32:28   \n",
       "1      vehicle_obstruction  2019-08-28 12:11:32  2019-12-11 11:32:28   \n",
       "2      vehicle_obstruction  2019-08-28 12:11:32  2019-12-11 11:32:28   \n",
       "3      vehicle_obstruction  2019-08-28 12:11:32  2019-12-11 11:32:28   \n",
       "4      vehicle_obstruction  2019-08-28 12:11:32  2019-12-11 11:32:28   \n",
       "...                    ...                  ...                  ...   \n",
       "88846  vehicle_obstruction  2019-12-31 23:43:49  2019-12-31 23:43:49   \n",
       "88847             accident  2019-12-31 23:46:10  2019-12-31 23:46:10   \n",
       "88848  vehicle_obstruction  2019-12-31 23:47:01  2019-12-31 23:47:01   \n",
       "88849  vehicle_obstruction  2019-12-31 23:55:23  2019-12-31 23:55:23   \n",
       "88850  vehicle_obstruction  2019-12-31 23:56:54  2019-12-31 23:56:54   \n",
       "\n",
       "      vild_primair_wegnummer  primaire_locatie_lengtegraad  \\\n",
       "0                         A1                      4.974663   \n",
       "1                         A9                      4.716725   \n",
       "2                         A9                      4.738364   \n",
       "3                        A35                      6.824692   \n",
       "4                         A4                      4.346407   \n",
       "...                      ...                           ...   \n",
       "88846                    NaN                      4.475721   \n",
       "88847                   N246                      4.701406   \n",
       "88848                    N31                      5.922628   \n",
       "88849                     A4                      4.313686   \n",
       "88850                     A4                      4.701819   \n",
       "\n",
       "       primaire_locatie_breedtegraad       duration  \n",
       "0                          52.346931  151160.933333  \n",
       "1                          52.514820  151160.933333  \n",
       "2                          52.609730  151160.933333  \n",
       "3                          52.204929  151160.933333  \n",
       "4                          52.041920  151160.933333  \n",
       "...                              ...            ...  \n",
       "88846                      51.893230       0.000000  \n",
       "88847                      52.443363       0.000000  \n",
       "88848                      53.165226       0.000000  \n",
       "88849                      51.442677       0.000000  \n",
       "88850                      52.271004       0.000000  \n",
       "\n",
       "[88851 rows x 7 columns]"
      ]
     },
     "metadata": {},
     "output_type": "display_data"
    }
   ],
   "source": [
    "# Reading incidents data\n",
    "path_incidents = \"../Advanced Data Science Data/Incidents_clean.csv\"\n",
    "df = pd.read_csv(path_incidents)\n",
    "\n",
    "# Check if loaded correctly\n",
    "display(df)"
   ]
  },
  {
   "cell_type": "markdown",
   "id": "95484514",
   "metadata": {},
   "source": [
    "The geographical information of the COROP zones were obtained from the website of Provincie Verijssel. The source can be found here.  \n",
    "https://download.geoportaaloverijssel.nl/download/vector/539a949f-1315-45a7-b9a5-9fb00aaf9ecc"
   ]
  },
  {
   "cell_type": "code",
   "execution_count": 29,
   "id": "80fda39a",
   "metadata": {},
   "outputs": [
    {
     "name": "stderr",
     "output_type": "stream",
     "text": [
      "2:80: E501 line too long (97 > 79 characters)\n"
     ]
    }
   ],
   "source": [
    "# Importing CORUP shape file\n",
    "path_gpd = \"../Advanced Data Science Data/COROP/B14_COROP_gebieden/B14_COROP_gebiedenPolygon.shp\"\n",
    "COROP = gpd.read_file(path_gpd)"
   ]
  },
  {
   "cell_type": "markdown",
   "id": "c404ec12",
   "metadata": {},
   "source": [
    "The original shape file of COROP had different coordinate system from the incident data. So in the cell below the coordinate system of COROp shape file is translated into the same system as used in the incident data."
   ]
  },
  {
   "cell_type": "code",
   "execution_count": 30,
   "id": "ca29b3fe",
   "metadata": {},
   "outputs": [
    {
     "data": {
      "text/html": [
       "<div>\n",
       "<style scoped>\n",
       "    .dataframe tbody tr th:only-of-type {\n",
       "        vertical-align: middle;\n",
       "    }\n",
       "\n",
       "    .dataframe tbody tr th {\n",
       "        vertical-align: top;\n",
       "    }\n",
       "\n",
       "    .dataframe thead th {\n",
       "        text-align: right;\n",
       "    }\n",
       "</style>\n",
       "<table border=\"1\" class=\"dataframe\">\n",
       "  <thead>\n",
       "    <tr style=\"text-align: right;\">\n",
       "      <th></th>\n",
       "      <th>SHAPE_LENG</th>\n",
       "      <th>RUBRIEK_XS</th>\n",
       "      <th>RUBRIEK</th>\n",
       "      <th>JRSTATCODE</th>\n",
       "      <th>STATNAAM_X</th>\n",
       "      <th>STATNAAM</th>\n",
       "      <th>STATCODE_X</th>\n",
       "      <th>STATCODE</th>\n",
       "      <th>OBJECTID</th>\n",
       "      <th>geometry</th>\n",
       "    </tr>\n",
       "  </thead>\n",
       "  <tbody>\n",
       "    <tr>\n",
       "      <th>0</th>\n",
       "      <td>102265.901559</td>\n",
       "      <td>None</td>\n",
       "      <td>coropgebied</td>\n",
       "      <td>2018CR19</td>\n",
       "      <td>None</td>\n",
       "      <td>Alkmaar en omgeving</td>\n",
       "      <td>None</td>\n",
       "      <td>CR19</td>\n",
       "      <td>35.0</td>\n",
       "      <td>POLYGON ((4.72522 52.69385, 4.72885 52.69140, ...</td>\n",
       "    </tr>\n",
       "    <tr>\n",
       "      <th>1</th>\n",
       "      <td>190305.888230</td>\n",
       "      <td>None</td>\n",
       "      <td>coropgebied</td>\n",
       "      <td>2018CR37</td>\n",
       "      <td>None</td>\n",
       "      <td>Noord-Limburg</td>\n",
       "      <td>None</td>\n",
       "      <td>CR37</td>\n",
       "      <td>36.0</td>\n",
       "      <td>POLYGON ((5.93277 51.74194, 5.93589 51.74103, ...</td>\n",
       "    </tr>\n",
       "    <tr>\n",
       "      <th>2</th>\n",
       "      <td>168527.142803</td>\n",
       "      <td>None</td>\n",
       "      <td>coropgebied</td>\n",
       "      <td>2018CR38</td>\n",
       "      <td>None</td>\n",
       "      <td>Midden-Limburg</td>\n",
       "      <td>None</td>\n",
       "      <td>CR38</td>\n",
       "      <td>37.0</td>\n",
       "      <td>POLYGON ((5.89041 51.31367, 5.91065 51.30771, ...</td>\n",
       "    </tr>\n",
       "    <tr>\n",
       "      <th>3</th>\n",
       "      <td>158991.993399</td>\n",
       "      <td>None</td>\n",
       "      <td>coropgebied</td>\n",
       "      <td>2018CR39</td>\n",
       "      <td>None</td>\n",
       "      <td>Zuid-Limburg</td>\n",
       "      <td>None</td>\n",
       "      <td>CR39</td>\n",
       "      <td>38.0</td>\n",
       "      <td>POLYGON ((5.82368 51.06673, 5.82677 51.05587, ...</td>\n",
       "    </tr>\n",
       "    <tr>\n",
       "      <th>4</th>\n",
       "      <td>326651.059478</td>\n",
       "      <td>None</td>\n",
       "      <td>coropgebied</td>\n",
       "      <td>2018CR40</td>\n",
       "      <td>None</td>\n",
       "      <td>Flevoland</td>\n",
       "      <td>None</td>\n",
       "      <td>CR40</td>\n",
       "      <td>39.0</td>\n",
       "      <td>MULTIPOLYGON (((5.86218 52.52197, 5.85975 52.5...</td>\n",
       "    </tr>\n",
       "  </tbody>\n",
       "</table>\n",
       "</div>"
      ],
      "text/plain": [
       "      SHAPE_LENG RUBRIEK_XS      RUBRIEK JRSTATCODE STATNAAM_X  \\\n",
       "0  102265.901559       None  coropgebied   2018CR19       None   \n",
       "1  190305.888230       None  coropgebied   2018CR37       None   \n",
       "2  168527.142803       None  coropgebied   2018CR38       None   \n",
       "3  158991.993399       None  coropgebied   2018CR39       None   \n",
       "4  326651.059478       None  coropgebied   2018CR40       None   \n",
       "\n",
       "              STATNAAM STATCODE_X STATCODE  OBJECTID  \\\n",
       "0  Alkmaar en omgeving       None     CR19      35.0   \n",
       "1        Noord-Limburg       None     CR37      36.0   \n",
       "2       Midden-Limburg       None     CR38      37.0   \n",
       "3         Zuid-Limburg       None     CR39      38.0   \n",
       "4            Flevoland       None     CR40      39.0   \n",
       "\n",
       "                                            geometry  \n",
       "0  POLYGON ((4.72522 52.69385, 4.72885 52.69140, ...  \n",
       "1  POLYGON ((5.93277 51.74194, 5.93589 51.74103, ...  \n",
       "2  POLYGON ((5.89041 51.31367, 5.91065 51.30771, ...  \n",
       "3  POLYGON ((5.82368 51.06673, 5.82677 51.05587, ...  \n",
       "4  MULTIPOLYGON (((5.86218 52.52197, 5.85975 52.5...  "
      ]
     },
     "execution_count": 30,
     "metadata": {},
     "output_type": "execute_result"
    }
   ],
   "source": [
    "# Translate the geometry into epsg 4326 coordinates standard\n",
    "COROP = COROP.to_crs(epsg=4326)\n",
    "# Check if translated correctly\n",
    "print(COROP.head(5))"
   ]
  },
  {
   "cell_type": "markdown",
   "id": "7ceb40df",
   "metadata": {},
   "source": [
    "This part is collecting and organising the data so that it can be utilised to identify the zone of each incident."
   ]
  },
  {
   "cell_type": "code",
   "execution_count": 31,
   "id": "4d1d2281",
   "metadata": {},
   "outputs": [
    {
     "name": "stderr",
     "output_type": "stream",
     "text": [
      "8:80: E501 line too long (92 > 79 characters)\n",
      "11:80: E501 line too long (87 > 79 characters)\n",
      "15:80: E501 line too long (89 > 79 characters)\n"
     ]
    }
   ],
   "source": [
    "# Get zone names\n",
    "zone_names = [i for i in COROP[\"STATNAAM\"]]\n",
    "\n",
    "# Get the geometry of the COROP\n",
    "g = [i for i in COROP.geometry]\n",
    "\n",
    "# Get the coordinates of the geometry\n",
    "list_poly_coords = [shapely.geometry.mapping(g[i])['coordinates'][0] for i in range(len(g))]\n",
    "\n",
    "# Turn the coordinates into numpy arrays\n",
    "list_arr_coords = [np.array(list_poly_coords[i]) for i in range(len(list_poly_coords))]\n",
    "\n",
    "# Organising dimension of arrays\n",
    "for i in range(len(list_arr_coords)):\n",
    "    # some polygon data has 3D array but the first dimention is always 1 so get rid of it\n",
    "    if list_arr_coords[i].ndim == 3:\n",
    "        list_arr_coords[i] = list_arr_coords[i][0]"
   ]
  },
  {
   "cell_type": "markdown",
   "id": "6bd10e0e",
   "metadata": {},
   "source": [
    "Here, the zone of each incident is identified."
   ]
  },
  {
   "cell_type": "code",
   "execution_count": 32,
   "id": "217bcdf9",
   "metadata": {},
   "outputs": [
    {
     "name": "stderr",
     "output_type": "stream",
     "text": [
      "4:80: E501 line too long (126 > 79 characters)\n",
      "6:18: W291 trailing whitespace\n"
     ]
    }
   ],
   "source": [
    "# Identify in which zone each incident is located\n",
    "for k in range(len(df)):\n",
    "    for j in range(len(g)):\n",
    "        if shapely.geometry.Point(df[\"primaire_locatie_lengtegraad\"][k], df[\"primaire_locatie_breedtegraad\"][k]).within(g[j]):\n",
    "            df.loc[k, \"zone\"] = zone_names[j]\n",
    "            break        \n",
    "        else:\n",
    "            df.loc[k, \"zone\"] = \"Unknown\""
   ]
  },
  {
   "cell_type": "code",
   "execution_count": 33,
   "id": "fc9fe696",
   "metadata": {},
   "outputs": [
    {
     "data": {
      "text/html": [
       "<div>\n",
       "<style scoped>\n",
       "    .dataframe tbody tr th:only-of-type {\n",
       "        vertical-align: middle;\n",
       "    }\n",
       "\n",
       "    .dataframe tbody tr th {\n",
       "        vertical-align: top;\n",
       "    }\n",
       "\n",
       "    .dataframe thead th {\n",
       "        text-align: right;\n",
       "    }\n",
       "</style>\n",
       "<table border=\"1\" class=\"dataframe\">\n",
       "  <thead>\n",
       "    <tr style=\"text-align: right;\">\n",
       "      <th></th>\n",
       "      <th>type</th>\n",
       "      <th>starttime_new</th>\n",
       "      <th>endtime_new</th>\n",
       "      <th>vild_primair_wegnummer</th>\n",
       "      <th>primaire_locatie_lengtegraad</th>\n",
       "      <th>primaire_locatie_breedtegraad</th>\n",
       "      <th>duration</th>\n",
       "      <th>zone</th>\n",
       "    </tr>\n",
       "  </thead>\n",
       "  <tbody>\n",
       "    <tr>\n",
       "      <th>0</th>\n",
       "      <td>vehicle_obstruction</td>\n",
       "      <td>2019-08-28 12:11:32</td>\n",
       "      <td>2019-12-11 11:32:28</td>\n",
       "      <td>A1</td>\n",
       "      <td>4.974663</td>\n",
       "      <td>52.346931</td>\n",
       "      <td>151160.933333</td>\n",
       "      <td>Groot-Amsterdam</td>\n",
       "    </tr>\n",
       "    <tr>\n",
       "      <th>1</th>\n",
       "      <td>vehicle_obstruction</td>\n",
       "      <td>2019-08-28 12:11:32</td>\n",
       "      <td>2019-12-11 11:32:28</td>\n",
       "      <td>A9</td>\n",
       "      <td>4.716725</td>\n",
       "      <td>52.514820</td>\n",
       "      <td>151160.933333</td>\n",
       "      <td>IJmond</td>\n",
       "    </tr>\n",
       "    <tr>\n",
       "      <th>2</th>\n",
       "      <td>vehicle_obstruction</td>\n",
       "      <td>2019-08-28 12:11:32</td>\n",
       "      <td>2019-12-11 11:32:28</td>\n",
       "      <td>A9</td>\n",
       "      <td>4.738364</td>\n",
       "      <td>52.609730</td>\n",
       "      <td>151160.933333</td>\n",
       "      <td>Alkmaar en omgeving</td>\n",
       "    </tr>\n",
       "    <tr>\n",
       "      <th>3</th>\n",
       "      <td>vehicle_obstruction</td>\n",
       "      <td>2019-08-28 12:11:32</td>\n",
       "      <td>2019-12-11 11:32:28</td>\n",
       "      <td>A35</td>\n",
       "      <td>6.824692</td>\n",
       "      <td>52.204929</td>\n",
       "      <td>151160.933333</td>\n",
       "      <td>Twente</td>\n",
       "    </tr>\n",
       "    <tr>\n",
       "      <th>4</th>\n",
       "      <td>vehicle_obstruction</td>\n",
       "      <td>2019-08-28 12:11:32</td>\n",
       "      <td>2019-12-11 11:32:28</td>\n",
       "      <td>A4</td>\n",
       "      <td>4.346407</td>\n",
       "      <td>52.041920</td>\n",
       "      <td>151160.933333</td>\n",
       "      <td>Agglomeratie 's-Gravenhage</td>\n",
       "    </tr>\n",
       "    <tr>\n",
       "      <th>...</th>\n",
       "      <td>...</td>\n",
       "      <td>...</td>\n",
       "      <td>...</td>\n",
       "      <td>...</td>\n",
       "      <td>...</td>\n",
       "      <td>...</td>\n",
       "      <td>...</td>\n",
       "      <td>...</td>\n",
       "    </tr>\n",
       "    <tr>\n",
       "      <th>88846</th>\n",
       "      <td>vehicle_obstruction</td>\n",
       "      <td>2019-12-31 23:43:49</td>\n",
       "      <td>2019-12-31 23:43:49</td>\n",
       "      <td>NaN</td>\n",
       "      <td>4.475721</td>\n",
       "      <td>51.893230</td>\n",
       "      <td>0.000000</td>\n",
       "      <td>Groot-Rijnmond</td>\n",
       "    </tr>\n",
       "    <tr>\n",
       "      <th>88847</th>\n",
       "      <td>accident</td>\n",
       "      <td>2019-12-31 23:46:10</td>\n",
       "      <td>2019-12-31 23:46:10</td>\n",
       "      <td>N246</td>\n",
       "      <td>4.701406</td>\n",
       "      <td>52.443363</td>\n",
       "      <td>0.000000</td>\n",
       "      <td>Zaanstreek</td>\n",
       "    </tr>\n",
       "    <tr>\n",
       "      <th>88848</th>\n",
       "      <td>vehicle_obstruction</td>\n",
       "      <td>2019-12-31 23:47:01</td>\n",
       "      <td>2019-12-31 23:47:01</td>\n",
       "      <td>N31</td>\n",
       "      <td>5.922628</td>\n",
       "      <td>53.165226</td>\n",
       "      <td>0.000000</td>\n",
       "      <td>Noord-Friesland</td>\n",
       "    </tr>\n",
       "    <tr>\n",
       "      <th>88849</th>\n",
       "      <td>vehicle_obstruction</td>\n",
       "      <td>2019-12-31 23:55:23</td>\n",
       "      <td>2019-12-31 23:55:23</td>\n",
       "      <td>A4</td>\n",
       "      <td>4.313686</td>\n",
       "      <td>51.442677</td>\n",
       "      <td>0.000000</td>\n",
       "      <td>West-Noord-Brabant</td>\n",
       "    </tr>\n",
       "    <tr>\n",
       "      <th>88850</th>\n",
       "      <td>vehicle_obstruction</td>\n",
       "      <td>2019-12-31 23:56:54</td>\n",
       "      <td>2019-12-31 23:56:54</td>\n",
       "      <td>A4</td>\n",
       "      <td>4.701819</td>\n",
       "      <td>52.271004</td>\n",
       "      <td>0.000000</td>\n",
       "      <td>Groot-Amsterdam</td>\n",
       "    </tr>\n",
       "  </tbody>\n",
       "</table>\n",
       "<p>88851 rows × 8 columns</p>\n",
       "</div>"
      ],
      "text/plain": [
       "                      type        starttime_new          endtime_new  \\\n",
       "0      vehicle_obstruction  2019-08-28 12:11:32  2019-12-11 11:32:28   \n",
       "1      vehicle_obstruction  2019-08-28 12:11:32  2019-12-11 11:32:28   \n",
       "2      vehicle_obstruction  2019-08-28 12:11:32  2019-12-11 11:32:28   \n",
       "3      vehicle_obstruction  2019-08-28 12:11:32  2019-12-11 11:32:28   \n",
       "4      vehicle_obstruction  2019-08-28 12:11:32  2019-12-11 11:32:28   \n",
       "...                    ...                  ...                  ...   \n",
       "88846  vehicle_obstruction  2019-12-31 23:43:49  2019-12-31 23:43:49   \n",
       "88847             accident  2019-12-31 23:46:10  2019-12-31 23:46:10   \n",
       "88848  vehicle_obstruction  2019-12-31 23:47:01  2019-12-31 23:47:01   \n",
       "88849  vehicle_obstruction  2019-12-31 23:55:23  2019-12-31 23:55:23   \n",
       "88850  vehicle_obstruction  2019-12-31 23:56:54  2019-12-31 23:56:54   \n",
       "\n",
       "      vild_primair_wegnummer  primaire_locatie_lengtegraad  \\\n",
       "0                         A1                      4.974663   \n",
       "1                         A9                      4.716725   \n",
       "2                         A9                      4.738364   \n",
       "3                        A35                      6.824692   \n",
       "4                         A4                      4.346407   \n",
       "...                      ...                           ...   \n",
       "88846                    NaN                      4.475721   \n",
       "88847                   N246                      4.701406   \n",
       "88848                    N31                      5.922628   \n",
       "88849                     A4                      4.313686   \n",
       "88850                     A4                      4.701819   \n",
       "\n",
       "       primaire_locatie_breedtegraad       duration  \\\n",
       "0                          52.346931  151160.933333   \n",
       "1                          52.514820  151160.933333   \n",
       "2                          52.609730  151160.933333   \n",
       "3                          52.204929  151160.933333   \n",
       "4                          52.041920  151160.933333   \n",
       "...                              ...            ...   \n",
       "88846                      51.893230       0.000000   \n",
       "88847                      52.443363       0.000000   \n",
       "88848                      53.165226       0.000000   \n",
       "88849                      51.442677       0.000000   \n",
       "88850                      52.271004       0.000000   \n",
       "\n",
       "                             zone  \n",
       "0                 Groot-Amsterdam  \n",
       "1                          IJmond  \n",
       "2             Alkmaar en omgeving  \n",
       "3                          Twente  \n",
       "4      Agglomeratie 's-Gravenhage  \n",
       "...                           ...  \n",
       "88846              Groot-Rijnmond  \n",
       "88847                  Zaanstreek  \n",
       "88848             Noord-Friesland  \n",
       "88849          West-Noord-Brabant  \n",
       "88850             Groot-Amsterdam  \n",
       "\n",
       "[88851 rows x 8 columns]"
      ]
     },
     "metadata": {},
     "output_type": "display_data"
    }
   ],
   "source": [
    "# Check if the zone is correctly identified\n",
    "display(df)"
   ]
  },
  {
   "cell_type": "markdown",
   "id": "e0a59297",
   "metadata": {},
   "source": [
    "The zone distribution of incidents are aggregated per zones to show the geographical distribution of the incidents."
   ]
  },
  {
   "cell_type": "code",
   "execution_count": 34,
   "id": "a99e8602",
   "metadata": {},
   "outputs": [
    {
     "name": "stderr",
     "output_type": "stream",
     "text": [
      "7:80: E501 line too long (125 > 79 characters)\n",
      "8:80: E501 line too long (125 > 79 characters)\n"
     ]
    }
   ],
   "source": [
    "# Set up a dataframe for bubble map\n",
    "columns_bubble = [\"Zone\", \"Lat\", \"Lon\", \"Count\"]\n",
    "df_bubble = pd.DataFrame(columns=columns_bubble)\n",
    "\n",
    "# input the zones and the coordinates of the centroid (centre of gravity)\n",
    "df_bubble[\"Zone\"] = zone_names\n",
    "df_bubble[\"Lat\"] = [list(shapely.geometry.Polygon(list_arr_coords[i]).centroid.coords)[0][1] for i in range(len(zone_names))]\n",
    "df_bubble[\"Lon\"] = [list(shapely.geometry.Polygon(list_arr_coords[i]).centroid.coords)[0][0] for i in range(len(zone_names))]\n",
    "\n",
    "# Count the number of incidents in each zone\n",
    "for i in range(len(zone_names)):\n",
    "    df_bubble.loc[i, \"Count\"] = len(df[df[\"zone\"] == zone_names[i]])\n",
    "\n",
    "\n",
    "df_bubble[\"Count\"] = df_bubble[\"Count\"].astype(int)"
   ]
  },
  {
   "cell_type": "code",
   "execution_count": 35,
   "id": "8a2f29ba",
   "metadata": {},
   "outputs": [
    {
     "data": {
      "text/html": [
       "<div>\n",
       "<style scoped>\n",
       "    .dataframe tbody tr th:only-of-type {\n",
       "        vertical-align: middle;\n",
       "    }\n",
       "\n",
       "    .dataframe tbody tr th {\n",
       "        vertical-align: top;\n",
       "    }\n",
       "\n",
       "    .dataframe thead th {\n",
       "        text-align: right;\n",
       "    }\n",
       "</style>\n",
       "<table border=\"1\" class=\"dataframe\">\n",
       "  <thead>\n",
       "    <tr style=\"text-align: right;\">\n",
       "      <th></th>\n",
       "      <th>Zone</th>\n",
       "      <th>Lat</th>\n",
       "      <th>Lon</th>\n",
       "      <th>Count</th>\n",
       "    </tr>\n",
       "  </thead>\n",
       "  <tbody>\n",
       "    <tr>\n",
       "      <th>0</th>\n",
       "      <td>Alkmaar en omgeving</td>\n",
       "      <td>52.639448</td>\n",
       "      <td>4.758368</td>\n",
       "      <td>496</td>\n",
       "    </tr>\n",
       "    <tr>\n",
       "      <th>1</th>\n",
       "      <td>Noord-Limburg</td>\n",
       "      <td>51.464509</td>\n",
       "      <td>6.035926</td>\n",
       "      <td>988</td>\n",
       "    </tr>\n",
       "    <tr>\n",
       "      <th>2</th>\n",
       "      <td>Midden-Limburg</td>\n",
       "      <td>51.200997</td>\n",
       "      <td>5.875367</td>\n",
       "      <td>1196</td>\n",
       "    </tr>\n",
       "    <tr>\n",
       "      <th>3</th>\n",
       "      <td>Zuid-Limburg</td>\n",
       "      <td>50.883800</td>\n",
       "      <td>5.862185</td>\n",
       "      <td>2175</td>\n",
       "    </tr>\n",
       "    <tr>\n",
       "      <th>4</th>\n",
       "      <td>Flevoland</td>\n",
       "      <td>52.523277</td>\n",
       "      <td>5.860541</td>\n",
       "      <td>1654</td>\n",
       "    </tr>\n",
       "    <tr>\n",
       "      <th>5</th>\n",
       "      <td>Agglomeratie Haarlem</td>\n",
       "      <td>52.377009</td>\n",
       "      <td>4.611586</td>\n",
       "      <td>468</td>\n",
       "    </tr>\n",
       "    <tr>\n",
       "      <th>6</th>\n",
       "      <td>Oost-Groningen</td>\n",
       "      <td>53.080286</td>\n",
       "      <td>7.048793</td>\n",
       "      <td>307</td>\n",
       "    </tr>\n",
       "    <tr>\n",
       "      <th>7</th>\n",
       "      <td>IJmond</td>\n",
       "      <td>52.464935</td>\n",
       "      <td>4.576024</td>\n",
       "      <td>1017</td>\n",
       "    </tr>\n",
       "    <tr>\n",
       "      <th>8</th>\n",
       "      <td>Delfzijl en omgeving</td>\n",
       "      <td>53.328281</td>\n",
       "      <td>6.840129</td>\n",
       "      <td>47</td>\n",
       "    </tr>\n",
       "    <tr>\n",
       "      <th>9</th>\n",
       "      <td>Overig Groningen</td>\n",
       "      <td>53.369105</td>\n",
       "      <td>6.196435</td>\n",
       "      <td>1501</td>\n",
       "    </tr>\n",
       "    <tr>\n",
       "      <th>10</th>\n",
       "      <td>Noord-Friesland</td>\n",
       "      <td>53.077194</td>\n",
       "      <td>5.335825</td>\n",
       "      <td>425</td>\n",
       "    </tr>\n",
       "    <tr>\n",
       "      <th>11</th>\n",
       "      <td>Zuidoost-Friesland</td>\n",
       "      <td>52.992495</td>\n",
       "      <td>6.093665</td>\n",
       "      <td>898</td>\n",
       "    </tr>\n",
       "    <tr>\n",
       "      <th>12</th>\n",
       "      <td>Zuidwest-Friesland</td>\n",
       "      <td>53.064620</td>\n",
       "      <td>5.378389</td>\n",
       "      <td>668</td>\n",
       "    </tr>\n",
       "    <tr>\n",
       "      <th>13</th>\n",
       "      <td>Noord-Drenthe</td>\n",
       "      <td>52.987266</td>\n",
       "      <td>6.580756</td>\n",
       "      <td>671</td>\n",
       "    </tr>\n",
       "    <tr>\n",
       "      <th>14</th>\n",
       "      <td>Groot-Amsterdam</td>\n",
       "      <td>52.367062</td>\n",
       "      <td>5.007206</td>\n",
       "      <td>8978</td>\n",
       "    </tr>\n",
       "    <tr>\n",
       "      <th>15</th>\n",
       "      <td>Het Gooi en Vechtstreek</td>\n",
       "      <td>52.293045</td>\n",
       "      <td>5.322085</td>\n",
       "      <td>1272</td>\n",
       "    </tr>\n",
       "    <tr>\n",
       "      <th>16</th>\n",
       "      <td>Agglomeratie 's-Gravenhage</td>\n",
       "      <td>52.075024</td>\n",
       "      <td>4.377070</td>\n",
       "      <td>3488</td>\n",
       "    </tr>\n",
       "    <tr>\n",
       "      <th>17</th>\n",
       "      <td>Oost-Zuid-Holland</td>\n",
       "      <td>52.058130</td>\n",
       "      <td>4.718522</td>\n",
       "      <td>2191</td>\n",
       "    </tr>\n",
       "    <tr>\n",
       "      <th>18</th>\n",
       "      <td>Zaanstreek</td>\n",
       "      <td>52.476696</td>\n",
       "      <td>4.801893</td>\n",
       "      <td>730</td>\n",
       "    </tr>\n",
       "    <tr>\n",
       "      <th>19</th>\n",
       "      <td>Zuidoost-Drenthe</td>\n",
       "      <td>52.793767</td>\n",
       "      <td>6.861628</td>\n",
       "      <td>221</td>\n",
       "    </tr>\n",
       "    <tr>\n",
       "      <th>20</th>\n",
       "      <td>Agglomeratie Leiden en Bollenstreek</td>\n",
       "      <td>52.205313</td>\n",
       "      <td>4.527216</td>\n",
       "      <td>1906</td>\n",
       "    </tr>\n",
       "    <tr>\n",
       "      <th>21</th>\n",
       "      <td>Zuidwest-Drenthe</td>\n",
       "      <td>52.762479</td>\n",
       "      <td>6.353016</td>\n",
       "      <td>746</td>\n",
       "    </tr>\n",
       "    <tr>\n",
       "      <th>22</th>\n",
       "      <td>Noordoost-Noord-Brabant</td>\n",
       "      <td>51.669262</td>\n",
       "      <td>5.553358</td>\n",
       "      <td>2974</td>\n",
       "    </tr>\n",
       "    <tr>\n",
       "      <th>23</th>\n",
       "      <td>Noord-Overijssel</td>\n",
       "      <td>52.591187</td>\n",
       "      <td>5.790686</td>\n",
       "      <td>1532</td>\n",
       "    </tr>\n",
       "    <tr>\n",
       "      <th>24</th>\n",
       "      <td>Groot-Rijnmond</td>\n",
       "      <td>51.697868</td>\n",
       "      <td>4.558006</td>\n",
       "      <td>11575</td>\n",
       "    </tr>\n",
       "    <tr>\n",
       "      <th>25</th>\n",
       "      <td>Zuidwest-Gelderland</td>\n",
       "      <td>51.867770</td>\n",
       "      <td>5.324379</td>\n",
       "      <td>2175</td>\n",
       "    </tr>\n",
       "    <tr>\n",
       "      <th>26</th>\n",
       "      <td>Utrecht</td>\n",
       "      <td>52.095779</td>\n",
       "      <td>5.172808</td>\n",
       "      <td>9662</td>\n",
       "    </tr>\n",
       "    <tr>\n",
       "      <th>27</th>\n",
       "      <td>Zuidoost-Zuid-Holland</td>\n",
       "      <td>51.862587</td>\n",
       "      <td>4.842493</td>\n",
       "      <td>3588</td>\n",
       "    </tr>\n",
       "    <tr>\n",
       "      <th>28</th>\n",
       "      <td>Zuidwest-Overijssel</td>\n",
       "      <td>52.344231</td>\n",
       "      <td>6.230335</td>\n",
       "      <td>625</td>\n",
       "    </tr>\n",
       "    <tr>\n",
       "      <th>29</th>\n",
       "      <td>Zeeuwsch-Vlaanderen</td>\n",
       "      <td>51.312651</td>\n",
       "      <td>3.782761</td>\n",
       "      <td>112</td>\n",
       "    </tr>\n",
       "    <tr>\n",
       "      <th>30</th>\n",
       "      <td>Overig Zeeland</td>\n",
       "      <td>51.514260</td>\n",
       "      <td>3.704009</td>\n",
       "      <td>1068</td>\n",
       "    </tr>\n",
       "    <tr>\n",
       "      <th>31</th>\n",
       "      <td>West-Noord-Brabant</td>\n",
       "      <td>51.697496</td>\n",
       "      <td>4.568470</td>\n",
       "      <td>4914</td>\n",
       "    </tr>\n",
       "    <tr>\n",
       "      <th>32</th>\n",
       "      <td>Delft en Westland</td>\n",
       "      <td>51.987429</td>\n",
       "      <td>4.267402</td>\n",
       "      <td>1407</td>\n",
       "    </tr>\n",
       "    <tr>\n",
       "      <th>33</th>\n",
       "      <td>Midden-Noord-Brabant</td>\n",
       "      <td>51.439359</td>\n",
       "      <td>4.923370</td>\n",
       "      <td>1731</td>\n",
       "    </tr>\n",
       "    <tr>\n",
       "      <th>34</th>\n",
       "      <td>Twente</td>\n",
       "      <td>52.314606</td>\n",
       "      <td>6.706992</td>\n",
       "      <td>1293</td>\n",
       "    </tr>\n",
       "    <tr>\n",
       "      <th>35</th>\n",
       "      <td>Veluwe</td>\n",
       "      <td>52.262533</td>\n",
       "      <td>5.471177</td>\n",
       "      <td>4731</td>\n",
       "    </tr>\n",
       "    <tr>\n",
       "      <th>36</th>\n",
       "      <td>Achterhoek</td>\n",
       "      <td>52.037155</td>\n",
       "      <td>6.417086</td>\n",
       "      <td>260</td>\n",
       "    </tr>\n",
       "    <tr>\n",
       "      <th>37</th>\n",
       "      <td>Arnhem/Nijmegen</td>\n",
       "      <td>51.914876</td>\n",
       "      <td>5.888724</td>\n",
       "      <td>4129</td>\n",
       "    </tr>\n",
       "    <tr>\n",
       "      <th>38</th>\n",
       "      <td>Zuidoost-Noord-Brabant</td>\n",
       "      <td>51.417067</td>\n",
       "      <td>5.516184</td>\n",
       "      <td>4094</td>\n",
       "    </tr>\n",
       "    <tr>\n",
       "      <th>39</th>\n",
       "      <td>Kop van Noord-Holland</td>\n",
       "      <td>52.746404</td>\n",
       "      <td>5.143734</td>\n",
       "      <td>841</td>\n",
       "    </tr>\n",
       "  </tbody>\n",
       "</table>\n",
       "</div>"
      ],
      "text/plain": [
       "                                   Zone        Lat       Lon  Count\n",
       "0                   Alkmaar en omgeving  52.639448  4.758368    496\n",
       "1                         Noord-Limburg  51.464509  6.035926    988\n",
       "2                        Midden-Limburg  51.200997  5.875367   1196\n",
       "3                          Zuid-Limburg  50.883800  5.862185   2175\n",
       "4                             Flevoland  52.523277  5.860541   1654\n",
       "5                  Agglomeratie Haarlem  52.377009  4.611586    468\n",
       "6                        Oost-Groningen  53.080286  7.048793    307\n",
       "7                                IJmond  52.464935  4.576024   1017\n",
       "8                  Delfzijl en omgeving  53.328281  6.840129     47\n",
       "9                      Overig Groningen  53.369105  6.196435   1501\n",
       "10                      Noord-Friesland  53.077194  5.335825    425\n",
       "11                   Zuidoost-Friesland  52.992495  6.093665    898\n",
       "12                   Zuidwest-Friesland  53.064620  5.378389    668\n",
       "13                        Noord-Drenthe  52.987266  6.580756    671\n",
       "14                      Groot-Amsterdam  52.367062  5.007206   8978\n",
       "15              Het Gooi en Vechtstreek  52.293045  5.322085   1272\n",
       "16           Agglomeratie 's-Gravenhage  52.075024  4.377070   3488\n",
       "17                    Oost-Zuid-Holland  52.058130  4.718522   2191\n",
       "18                           Zaanstreek  52.476696  4.801893    730\n",
       "19                     Zuidoost-Drenthe  52.793767  6.861628    221\n",
       "20  Agglomeratie Leiden en Bollenstreek  52.205313  4.527216   1906\n",
       "21                     Zuidwest-Drenthe  52.762479  6.353016    746\n",
       "22              Noordoost-Noord-Brabant  51.669262  5.553358   2974\n",
       "23                     Noord-Overijssel  52.591187  5.790686   1532\n",
       "24                       Groot-Rijnmond  51.697868  4.558006  11575\n",
       "25                  Zuidwest-Gelderland  51.867770  5.324379   2175\n",
       "26                              Utrecht  52.095779  5.172808   9662\n",
       "27                Zuidoost-Zuid-Holland  51.862587  4.842493   3588\n",
       "28                  Zuidwest-Overijssel  52.344231  6.230335    625\n",
       "29                  Zeeuwsch-Vlaanderen  51.312651  3.782761    112\n",
       "30                       Overig Zeeland  51.514260  3.704009   1068\n",
       "31                   West-Noord-Brabant  51.697496  4.568470   4914\n",
       "32                    Delft en Westland  51.987429  4.267402   1407\n",
       "33                 Midden-Noord-Brabant  51.439359  4.923370   1731\n",
       "34                               Twente  52.314606  6.706992   1293\n",
       "35                               Veluwe  52.262533  5.471177   4731\n",
       "36                           Achterhoek  52.037155  6.417086    260\n",
       "37                      Arnhem/Nijmegen  51.914876  5.888724   4129\n",
       "38               Zuidoost-Noord-Brabant  51.417067  5.516184   4094\n",
       "39                Kop van Noord-Holland  52.746404  5.143734    841"
      ]
     },
     "metadata": {},
     "output_type": "display_data"
    }
   ],
   "source": [
    "# Check if the dataframe is correctly set up for the bubble map\n",
    "display(df_bubble)"
   ]
  },
  {
   "cell_type": "markdown",
   "id": "d8516a6a",
   "metadata": {},
   "source": [
    "The cell below shows the bubble map of the number of incidents in each zone."
   ]
  },
  {
   "cell_type": "code",
   "execution_count": 36,
   "id": "afc86c0f",
   "metadata": {},
   "outputs": [
    {
     "data": {
      "application/vnd.plotly.v1+json": {
       "config": {
        "plotlyServerURL": "https://plot.ly"
       },
       "data": [
        {
         "hovertemplate": "<b>%{hovertext}</b><br><br>Count=%{marker.color}<br>Lat=%{lat}<br>Lon=%{lon}<extra></extra>",
         "hovertext": [
          "Alkmaar en omgeving",
          "Noord-Limburg",
          "Midden-Limburg",
          "Zuid-Limburg",
          "Flevoland",
          "Agglomeratie Haarlem",
          "Oost-Groningen",
          "IJmond",
          "Delfzijl en omgeving",
          "Overig Groningen",
          "Noord-Friesland",
          "Zuidoost-Friesland",
          "Zuidwest-Friesland",
          "Noord-Drenthe",
          "Groot-Amsterdam",
          "Het Gooi en Vechtstreek",
          "Agglomeratie 's-Gravenhage",
          "Oost-Zuid-Holland",
          "Zaanstreek",
          "Zuidoost-Drenthe",
          "Agglomeratie Leiden en Bollenstreek",
          "Zuidwest-Drenthe",
          "Noordoost-Noord-Brabant",
          "Noord-Overijssel",
          "Groot-Rijnmond",
          "Zuidwest-Gelderland",
          "Utrecht",
          "Zuidoost-Zuid-Holland",
          "Zuidwest-Overijssel",
          "Zeeuwsch-Vlaanderen",
          "Overig Zeeland",
          "West-Noord-Brabant",
          "Delft en Westland",
          "Midden-Noord-Brabant",
          "Twente",
          "Veluwe",
          "Achterhoek",
          "Arnhem/Nijmegen",
          "Zuidoost-Noord-Brabant",
          "Kop van Noord-Holland"
         ],
         "lat": [
          52.639448479717686,
          51.46450945881621,
          51.200996840865514,
          50.883799527493835,
          52.523277273933324,
          52.377008529269965,
          53.08028574908961,
          52.46493510868326,
          53.32828051366467,
          53.369105247223814,
          53.07719435556018,
          52.99249534526222,
          53.06461983983713,
          52.98726574305096,
          52.367062224939446,
          52.29304531771448,
          52.07502411938335,
          52.05813026410067,
          52.4766957606612,
          52.79376671540715,
          52.20531261205689,
          52.762478817664125,
          51.66926211729451,
          52.59118715630873,
          51.69786792859196,
          51.867770152661706,
          52.095778535841845,
          51.862586842964845,
          52.34423058493146,
          51.31265077929088,
          51.514260183731835,
          51.69749628716959,
          51.98742943650411,
          51.43935888133566,
          52.31460603725427,
          52.26253280057579,
          52.037154502320305,
          51.914875673194125,
          51.41706697125959,
          52.746404473333314
         ],
         "legendgroup": "",
         "lon": [
          4.758368300943589,
          6.0359261938713304,
          5.875367264742954,
          5.862184792617168,
          5.860540777078407,
          4.61158609554412,
          7.048792789104928,
          4.5760244333889455,
          6.840128661322049,
          6.196434577576563,
          5.335825493493474,
          6.093664677527727,
          5.378388538708965,
          6.580755940111884,
          5.007206238700404,
          5.322084721193422,
          4.377069879934447,
          4.718521796217892,
          4.801892858036065,
          6.861627860194701,
          4.527216041384556,
          6.3530156133752245,
          5.553358077960148,
          5.790685866521523,
          4.558006338566618,
          5.324378722897156,
          5.1728077083574275,
          4.842492967666818,
          6.23033453979669,
          3.782761302115042,
          3.7040085361140047,
          4.56846955036918,
          4.267401702049488,
          4.923370447138588,
          6.706992128274847,
          5.471177194982651,
          6.417086163557302,
          5.8887239403097285,
          5.516183905600885,
          5.143733913788983
         ],
         "marker": {
          "color": [
           496,
           988,
           1196,
           2175,
           1654,
           468,
           307,
           1017,
           47,
           1501,
           425,
           898,
           668,
           671,
           8978,
           1272,
           3488,
           2191,
           730,
           221,
           1906,
           746,
           2974,
           1532,
           11575,
           2175,
           9662,
           3588,
           625,
           112,
           1068,
           4914,
           1407,
           1731,
           1293,
           4731,
           260,
           4129,
           4094,
           841
          ],
          "coloraxis": "coloraxis",
          "size": [
           496,
           988,
           1196,
           2175,
           1654,
           468,
           307,
           1017,
           47,
           1501,
           425,
           898,
           668,
           671,
           8978,
           1272,
           3488,
           2191,
           730,
           221,
           1906,
           746,
           2974,
           1532,
           11575,
           2175,
           9662,
           3588,
           625,
           112,
           1068,
           4914,
           1407,
           1731,
           1293,
           4731,
           260,
           4129,
           4094,
           841
          ],
          "sizemode": "area",
          "sizeref": 12.86111111111111
         },
         "mode": "markers",
         "name": "",
         "showlegend": false,
         "subplot": "mapbox",
         "type": "scattermapbox"
        }
       ],
       "layout": {
        "coloraxis": {
         "colorbar": {
          "title": {
           "text": "Count"
          }
         },
         "colorscale": [
          [
           0,
           "#30123b"
          ],
          [
           0.07142857142857142,
           "#4145ab"
          ],
          [
           0.14285714285714285,
           "#4675ed"
          ],
          [
           0.21428571428571427,
           "#39a2fc"
          ],
          [
           0.2857142857142857,
           "#1bcfd4"
          ],
          [
           0.35714285714285715,
           "#24eca6"
          ],
          [
           0.42857142857142855,
           "#61fc6c"
          ],
          [
           0.5,
           "#a4fc3b"
          ],
          [
           0.5714285714285714,
           "#d1e834"
          ],
          [
           0.6428571428571429,
           "#f3c63a"
          ],
          [
           0.7142857142857143,
           "#fe9b2d"
          ],
          [
           0.7857142857142857,
           "#f36315"
          ],
          [
           0.8571428571428571,
           "#d93806"
          ],
          [
           0.9285714285714286,
           "#b11901"
          ],
          [
           1,
           "#7a0402"
          ]
         ]
        },
        "font": {
         "size": 12
        },
        "legend": {
         "itemsizing": "constant",
         "tracegroupgap": 0
        },
        "mapbox": {
         "center": {
          "lat": 52.23143142972401,
          "lon": 5.4221149137783975
         },
         "domain": {
          "x": [
           0,
           1
          ],
          "y": [
           0,
           1
          ]
         },
         "style": "open-street-map",
         "zoom": 5.7
        },
        "margin": {
         "t": 60
        },
        "template": {
         "data": {
          "bar": [
           {
            "error_x": {
             "color": "#2a3f5f"
            },
            "error_y": {
             "color": "#2a3f5f"
            },
            "marker": {
             "line": {
              "color": "#E5ECF6",
              "width": 0.5
             },
             "pattern": {
              "fillmode": "overlay",
              "size": 10,
              "solidity": 0.2
             }
            },
            "type": "bar"
           }
          ],
          "barpolar": [
           {
            "marker": {
             "line": {
              "color": "#E5ECF6",
              "width": 0.5
             },
             "pattern": {
              "fillmode": "overlay",
              "size": 10,
              "solidity": 0.2
             }
            },
            "type": "barpolar"
           }
          ],
          "carpet": [
           {
            "aaxis": {
             "endlinecolor": "#2a3f5f",
             "gridcolor": "white",
             "linecolor": "white",
             "minorgridcolor": "white",
             "startlinecolor": "#2a3f5f"
            },
            "baxis": {
             "endlinecolor": "#2a3f5f",
             "gridcolor": "white",
             "linecolor": "white",
             "minorgridcolor": "white",
             "startlinecolor": "#2a3f5f"
            },
            "type": "carpet"
           }
          ],
          "choropleth": [
           {
            "colorbar": {
             "outlinewidth": 0,
             "ticks": ""
            },
            "type": "choropleth"
           }
          ],
          "contour": [
           {
            "colorbar": {
             "outlinewidth": 0,
             "ticks": ""
            },
            "colorscale": [
             [
              0,
              "#0d0887"
             ],
             [
              0.1111111111111111,
              "#46039f"
             ],
             [
              0.2222222222222222,
              "#7201a8"
             ],
             [
              0.3333333333333333,
              "#9c179e"
             ],
             [
              0.4444444444444444,
              "#bd3786"
             ],
             [
              0.5555555555555556,
              "#d8576b"
             ],
             [
              0.6666666666666666,
              "#ed7953"
             ],
             [
              0.7777777777777778,
              "#fb9f3a"
             ],
             [
              0.8888888888888888,
              "#fdca26"
             ],
             [
              1,
              "#f0f921"
             ]
            ],
            "type": "contour"
           }
          ],
          "contourcarpet": [
           {
            "colorbar": {
             "outlinewidth": 0,
             "ticks": ""
            },
            "type": "contourcarpet"
           }
          ],
          "heatmap": [
           {
            "colorbar": {
             "outlinewidth": 0,
             "ticks": ""
            },
            "colorscale": [
             [
              0,
              "#0d0887"
             ],
             [
              0.1111111111111111,
              "#46039f"
             ],
             [
              0.2222222222222222,
              "#7201a8"
             ],
             [
              0.3333333333333333,
              "#9c179e"
             ],
             [
              0.4444444444444444,
              "#bd3786"
             ],
             [
              0.5555555555555556,
              "#d8576b"
             ],
             [
              0.6666666666666666,
              "#ed7953"
             ],
             [
              0.7777777777777778,
              "#fb9f3a"
             ],
             [
              0.8888888888888888,
              "#fdca26"
             ],
             [
              1,
              "#f0f921"
             ]
            ],
            "type": "heatmap"
           }
          ],
          "heatmapgl": [
           {
            "colorbar": {
             "outlinewidth": 0,
             "ticks": ""
            },
            "colorscale": [
             [
              0,
              "#0d0887"
             ],
             [
              0.1111111111111111,
              "#46039f"
             ],
             [
              0.2222222222222222,
              "#7201a8"
             ],
             [
              0.3333333333333333,
              "#9c179e"
             ],
             [
              0.4444444444444444,
              "#bd3786"
             ],
             [
              0.5555555555555556,
              "#d8576b"
             ],
             [
              0.6666666666666666,
              "#ed7953"
             ],
             [
              0.7777777777777778,
              "#fb9f3a"
             ],
             [
              0.8888888888888888,
              "#fdca26"
             ],
             [
              1,
              "#f0f921"
             ]
            ],
            "type": "heatmapgl"
           }
          ],
          "histogram": [
           {
            "marker": {
             "pattern": {
              "fillmode": "overlay",
              "size": 10,
              "solidity": 0.2
             }
            },
            "type": "histogram"
           }
          ],
          "histogram2d": [
           {
            "colorbar": {
             "outlinewidth": 0,
             "ticks": ""
            },
            "colorscale": [
             [
              0,
              "#0d0887"
             ],
             [
              0.1111111111111111,
              "#46039f"
             ],
             [
              0.2222222222222222,
              "#7201a8"
             ],
             [
              0.3333333333333333,
              "#9c179e"
             ],
             [
              0.4444444444444444,
              "#bd3786"
             ],
             [
              0.5555555555555556,
              "#d8576b"
             ],
             [
              0.6666666666666666,
              "#ed7953"
             ],
             [
              0.7777777777777778,
              "#fb9f3a"
             ],
             [
              0.8888888888888888,
              "#fdca26"
             ],
             [
              1,
              "#f0f921"
             ]
            ],
            "type": "histogram2d"
           }
          ],
          "histogram2dcontour": [
           {
            "colorbar": {
             "outlinewidth": 0,
             "ticks": ""
            },
            "colorscale": [
             [
              0,
              "#0d0887"
             ],
             [
              0.1111111111111111,
              "#46039f"
             ],
             [
              0.2222222222222222,
              "#7201a8"
             ],
             [
              0.3333333333333333,
              "#9c179e"
             ],
             [
              0.4444444444444444,
              "#bd3786"
             ],
             [
              0.5555555555555556,
              "#d8576b"
             ],
             [
              0.6666666666666666,
              "#ed7953"
             ],
             [
              0.7777777777777778,
              "#fb9f3a"
             ],
             [
              0.8888888888888888,
              "#fdca26"
             ],
             [
              1,
              "#f0f921"
             ]
            ],
            "type": "histogram2dcontour"
           }
          ],
          "mesh3d": [
           {
            "colorbar": {
             "outlinewidth": 0,
             "ticks": ""
            },
            "type": "mesh3d"
           }
          ],
          "parcoords": [
           {
            "line": {
             "colorbar": {
              "outlinewidth": 0,
              "ticks": ""
             }
            },
            "type": "parcoords"
           }
          ],
          "pie": [
           {
            "automargin": true,
            "type": "pie"
           }
          ],
          "scatter": [
           {
            "fillpattern": {
             "fillmode": "overlay",
             "size": 10,
             "solidity": 0.2
            },
            "type": "scatter"
           }
          ],
          "scatter3d": [
           {
            "line": {
             "colorbar": {
              "outlinewidth": 0,
              "ticks": ""
             }
            },
            "marker": {
             "colorbar": {
              "outlinewidth": 0,
              "ticks": ""
             }
            },
            "type": "scatter3d"
           }
          ],
          "scattercarpet": [
           {
            "marker": {
             "colorbar": {
              "outlinewidth": 0,
              "ticks": ""
             }
            },
            "type": "scattercarpet"
           }
          ],
          "scattergeo": [
           {
            "marker": {
             "colorbar": {
              "outlinewidth": 0,
              "ticks": ""
             }
            },
            "type": "scattergeo"
           }
          ],
          "scattergl": [
           {
            "marker": {
             "colorbar": {
              "outlinewidth": 0,
              "ticks": ""
             }
            },
            "type": "scattergl"
           }
          ],
          "scattermapbox": [
           {
            "marker": {
             "colorbar": {
              "outlinewidth": 0,
              "ticks": ""
             }
            },
            "type": "scattermapbox"
           }
          ],
          "scatterpolar": [
           {
            "marker": {
             "colorbar": {
              "outlinewidth": 0,
              "ticks": ""
             }
            },
            "type": "scatterpolar"
           }
          ],
          "scatterpolargl": [
           {
            "marker": {
             "colorbar": {
              "outlinewidth": 0,
              "ticks": ""
             }
            },
            "type": "scatterpolargl"
           }
          ],
          "scatterternary": [
           {
            "marker": {
             "colorbar": {
              "outlinewidth": 0,
              "ticks": ""
             }
            },
            "type": "scatterternary"
           }
          ],
          "surface": [
           {
            "colorbar": {
             "outlinewidth": 0,
             "ticks": ""
            },
            "colorscale": [
             [
              0,
              "#0d0887"
             ],
             [
              0.1111111111111111,
              "#46039f"
             ],
             [
              0.2222222222222222,
              "#7201a8"
             ],
             [
              0.3333333333333333,
              "#9c179e"
             ],
             [
              0.4444444444444444,
              "#bd3786"
             ],
             [
              0.5555555555555556,
              "#d8576b"
             ],
             [
              0.6666666666666666,
              "#ed7953"
             ],
             [
              0.7777777777777778,
              "#fb9f3a"
             ],
             [
              0.8888888888888888,
              "#fdca26"
             ],
             [
              1,
              "#f0f921"
             ]
            ],
            "type": "surface"
           }
          ],
          "table": [
           {
            "cells": {
             "fill": {
              "color": "#EBF0F8"
             },
             "line": {
              "color": "white"
             }
            },
            "header": {
             "fill": {
              "color": "#C8D4E3"
             },
             "line": {
              "color": "white"
             }
            },
            "type": "table"
           }
          ]
         },
         "layout": {
          "annotationdefaults": {
           "arrowcolor": "#2a3f5f",
           "arrowhead": 0,
           "arrowwidth": 1
          },
          "autotypenumbers": "strict",
          "coloraxis": {
           "colorbar": {
            "outlinewidth": 0,
            "ticks": ""
           }
          },
          "colorscale": {
           "diverging": [
            [
             0,
             "#8e0152"
            ],
            [
             0.1,
             "#c51b7d"
            ],
            [
             0.2,
             "#de77ae"
            ],
            [
             0.3,
             "#f1b6da"
            ],
            [
             0.4,
             "#fde0ef"
            ],
            [
             0.5,
             "#f7f7f7"
            ],
            [
             0.6,
             "#e6f5d0"
            ],
            [
             0.7,
             "#b8e186"
            ],
            [
             0.8,
             "#7fbc41"
            ],
            [
             0.9,
             "#4d9221"
            ],
            [
             1,
             "#276419"
            ]
           ],
           "sequential": [
            [
             0,
             "#0d0887"
            ],
            [
             0.1111111111111111,
             "#46039f"
            ],
            [
             0.2222222222222222,
             "#7201a8"
            ],
            [
             0.3333333333333333,
             "#9c179e"
            ],
            [
             0.4444444444444444,
             "#bd3786"
            ],
            [
             0.5555555555555556,
             "#d8576b"
            ],
            [
             0.6666666666666666,
             "#ed7953"
            ],
            [
             0.7777777777777778,
             "#fb9f3a"
            ],
            [
             0.8888888888888888,
             "#fdca26"
            ],
            [
             1,
             "#f0f921"
            ]
           ],
           "sequentialminus": [
            [
             0,
             "#0d0887"
            ],
            [
             0.1111111111111111,
             "#46039f"
            ],
            [
             0.2222222222222222,
             "#7201a8"
            ],
            [
             0.3333333333333333,
             "#9c179e"
            ],
            [
             0.4444444444444444,
             "#bd3786"
            ],
            [
             0.5555555555555556,
             "#d8576b"
            ],
            [
             0.6666666666666666,
             "#ed7953"
            ],
            [
             0.7777777777777778,
             "#fb9f3a"
            ],
            [
             0.8888888888888888,
             "#fdca26"
            ],
            [
             1,
             "#f0f921"
            ]
           ]
          },
          "colorway": [
           "#636efa",
           "#EF553B",
           "#00cc96",
           "#ab63fa",
           "#FFA15A",
           "#19d3f3",
           "#FF6692",
           "#B6E880",
           "#FF97FF",
           "#FECB52"
          ],
          "font": {
           "color": "#2a3f5f"
          },
          "geo": {
           "bgcolor": "white",
           "lakecolor": "white",
           "landcolor": "#E5ECF6",
           "showlakes": true,
           "showland": true,
           "subunitcolor": "white"
          },
          "hoverlabel": {
           "align": "left"
          },
          "hovermode": "closest",
          "mapbox": {
           "style": "light"
          },
          "paper_bgcolor": "white",
          "plot_bgcolor": "#E5ECF6",
          "polar": {
           "angularaxis": {
            "gridcolor": "white",
            "linecolor": "white",
            "ticks": ""
           },
           "bgcolor": "#E5ECF6",
           "radialaxis": {
            "gridcolor": "white",
            "linecolor": "white",
            "ticks": ""
           }
          },
          "scene": {
           "xaxis": {
            "backgroundcolor": "#E5ECF6",
            "gridcolor": "white",
            "gridwidth": 2,
            "linecolor": "white",
            "showbackground": true,
            "ticks": "",
            "zerolinecolor": "white"
           },
           "yaxis": {
            "backgroundcolor": "#E5ECF6",
            "gridcolor": "white",
            "gridwidth": 2,
            "linecolor": "white",
            "showbackground": true,
            "ticks": "",
            "zerolinecolor": "white"
           },
           "zaxis": {
            "backgroundcolor": "#E5ECF6",
            "gridcolor": "white",
            "gridwidth": 2,
            "linecolor": "white",
            "showbackground": true,
            "ticks": "",
            "zerolinecolor": "white"
           }
          },
          "shapedefaults": {
           "line": {
            "color": "#2a3f5f"
           }
          },
          "ternary": {
           "aaxis": {
            "gridcolor": "white",
            "linecolor": "white",
            "ticks": ""
           },
           "baxis": {
            "gridcolor": "white",
            "linecolor": "white",
            "ticks": ""
           },
           "bgcolor": "#E5ECF6",
           "caxis": {
            "gridcolor": "white",
            "linecolor": "white",
            "ticks": ""
           }
          },
          "title": {
           "x": 0.05
          },
          "xaxis": {
           "automargin": true,
           "gridcolor": "white",
           "linecolor": "white",
           "ticks": "",
           "title": {
            "standoff": 15
           },
           "zerolinecolor": "white",
           "zerolinewidth": 2
          },
          "yaxis": {
           "automargin": true,
           "gridcolor": "white",
           "linecolor": "white",
           "ticks": "",
           "title": {
            "standoff": 15
           },
           "zerolinecolor": "white",
           "zerolinewidth": 2
          }
         }
        },
        "title": {
         "text": "Number of incidents per COROP zones",
         "x": 0.5
        }
       }
      }
     },
     "metadata": {},
     "output_type": "display_data"
    },
    {
     "name": "stderr",
     "output_type": "stream",
     "text": [
      "3:76: W291 trailing whitespace\n"
     ]
    }
   ],
   "source": [
    "# Plot the bubble map\n",
    "fig = px.scatter_mapbox(df_bubble, lat='Lat', lon='Lon',\n",
    "                        size='Count', size_max=30, zoom=5.7, color='Count', \n",
    "                        color_continuous_scale=px.colors.sequential.Turbo,\n",
    "                        mapbox_style='open-street-map', hover_name='Zone')\n",
    "\n",
    "fig.update_layout(title='Number of incidents per COROP zones',\n",
    "                  title_x=0.5, font=dict(size=12))\n",
    "fig.show()"
   ]
  }
 ],
 "metadata": {
  "kernelspec": {
   "display_name": "geospatial",
   "language": "python",
   "name": "python3"
  },
  "language_info": {
   "codemirror_mode": {
    "name": "ipython",
    "version": 3
   },
   "file_extension": ".py",
   "mimetype": "text/x-python",
   "name": "python",
   "nbconvert_exporter": "python",
   "pygments_lexer": "ipython3",
   "version": "3.9.13"
  }
 },
 "nbformat": 4,
 "nbformat_minor": 5
}
