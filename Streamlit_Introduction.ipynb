{
 "cells": [
  {
   "cell_type": "markdown",
   "id": "3812188c-8df8-4e9c-ae45-0197e5eeae5e",
   "metadata": {},
   "source": [
    "Streamlit - Martijn Stok / Not the correct version"
   ]
  },
  {
   "cell_type": "code",
   "execution_count": null,
   "id": "8d51c8b6-f92a-499e-95dc-2abf9d54a1d5",
   "metadata": {},
   "outputs": [],
   "source": [
    "import streamlit as st"
   ]
  },
  {
   "cell_type": "markdown",
   "id": "69882c7d-8e3a-426a-8434-385cf8ef0ffd",
   "metadata": {},
   "source": [
    "## Project introduction\n",
    "This is the first page for the project introduction and goals"
   ]
  },
  {
   "cell_type": "code",
   "execution_count": null,
   "id": "933782f5-8229-45cb-84a5-6201548a9e21",
   "metadata": {},
   "outputs": [],
   "source": [
    "# Page name: Project introduction\n",
    "tab1_intro, tab2_intro = st.tabs([\"Introduction\", \"Motive\"])\n",
    "tab1_intro.header(\"Goal\")\n",
    "tab1_intro.markdown(\"In this project a model is develop for Rijkswaterstaat in order to reduce the response times of road inspectors on the Dutch highway network. The current model that Rijkswaterstaat uses to determine the positions of the road inspectors results in an average response time to incidents of 18 minutes. The goal is to develop and optimise a model that has an average response time that is less than these 18 minutes. In order to reach this goal road incident data is used from August to December of 2019. By using this data the data used to develop the model and the data used to calibrate and validate the model are all within the same period, meaning that some external factors that might play a role in a reduction of the response time are at least partly excluded.\")\n",
    "tab1_intro.markdown(\"\\n\")\n",
    "\n",
    "tab1_intro.header(\"Research question\")\n",
    "tab1_intro.markdown(\"The goal of this project is to find the optimal road inspectors’ locations that shortens the average response time to incidents. This is done by developing a model that finds these location based on data that is available of the Dutch highway network. The outcome of the model is also the answer to the research question. The research question of the project is:”)\n",
    "tab1_intro.markdown(\"\\n\")\n",
    "tab1_intro.markdown(\"At which locations do the road inspectors need to be placed in order to optimize the response time to incidents?”)\n",
    "tab1_intro.markdown(\"\\n\")\n",
    "tab1.markdown(\"The boundary conditions is that this average response time needs to be shorter than at least 18 minutes. The reason is that this is the result of the current validated model.\")\n",
    "tab1_intro.markdown(\"\\n\")\n",
    "\n",
    "tab1_intro.header(\"Approach\")\n",
    "tab1_intro.markdown(\"In order to develop a model and get results that answer the research question the type of model that is used must be determined. The model used in this project is the shortest path model. This calculates the distance over the road network between an incident the location of a road inspector and optimizes by reducing the total distance over a specified number of incident data. The approach used for this model is based on 5 steps:\\n 1. Cleaning the data\\n 2. Selecting candidate locations for inspectors\\n 3. Calculating a cost-matrix\\n 4. Formulating the optimisation model\\n  5. Combining the results for a global solution\")\n",
    "tab1_intro.markdown(\"\\n\")\n",
    "tab1_intro.markdown(\"First the data is cleaned. This is done to make sure that all the data that is not needed or not suitable for the model are removed. In this step also the incidents are connected to a location on the highway network. In the second step candidate locations for inspectors are selected. This are all the locations were a car can change direction on the road network, so at the intersections. Having a limited number of potential locations for the road inspectors means that the number of shortest path calculations is not too large. Next a cost-matrix is calculated. Here a weight is given to each candidate note in combination with each incident based on the distance between them. The next step is to formulate the optimisation model, where each of the first three steps are input. In the final step the results are combined for a global solution. This global solution is based on a set of solutions for a specified number of days.\")\n",
    "tab1_intro.markdown(\"\\n\")\n",
    "\n",
    "tab1_intro.header(\"Results\")\n",
    "tab1_intro.markdown(\"The result is a global solution where the locations are selected that have the highest score. For each day a set of road inspector locations is calculated based on the model. Each day gets a weight and optimal locations. The sum of each day combined gives a score for each potential location candidate.\")\n",
    "tab1_intro.markdown(\"\\n\")\n",
    "\n",
    "tab2_intro.header(\"Project motive\")\n",
    "tab2_intro.markdown(\"Rijkswaterstaat has recently develop a new model to determine what the best locations are for the road inspectors that Rijkswaterstaat employs. The reason why this is so important is that the response time of the road inspectors needs to be as short as possible. The quicker a road inspector is at the locations of an incident or some kind of obstruction, the less disturbance there is for the other road users. A couple of factors are important here:\\n - The traffic safety needs to be as high as possible. With an incident there are most likely people on the side of the road and they need to be brought to safety by removing the incident.\\n - An obstruction might lead to another incident and this must be prevented by removing it as quick as possible.\\n - The traffic flow needs to be as smooth as possible to prevent delays. An incident and also an obstruction can disturb this flow.”)\n",
    "tab2_intro.markdown(\"\\n\")\n",
    "tab2_intro.markdown(\"The new model Rijkswaterstaat has developed has led to a reduce in response time from 18 to 14 minutes. This is a significant reduce, however the new positioning of road inspectors might not be the only factor that has reduced the response time. Another factor might be that Rijkswaterstaat has improved the communication with other road inspectors, which means that the number of road inspectors going to one incident is more efficient now. Another factor could be that the characteristics of certain roads have changed. There are also continuously more advancements in terms of road safety. A reduction of incidents at certain locations might have led to a reduction in response time at these locations. The conclusion is that more investigation needs to be done in how to improve the placement of the road inspectors over the Dutch highway network. \")\n",
    "tab2_intro.markdown(\"\\n\")"
   ]
  }
 ],
 "metadata": {
  "kernelspec": {
   "display_name": "geospatial_tte",
   "language": "python",
   "name": "geospatialtte"
  },
  "language_info": {
   "codemirror_mode": {
    "name": "ipython",
    "version": 3
   },
   "file_extension": ".py",
   "mimetype": "text/x-python",
   "name": "python",
   "nbconvert_exporter": "python",
   "pygments_lexer": "ipython3",
   "version": "3.9.18"
  }
 },
 "nbformat": 4,
 "nbformat_minor": 5
}
