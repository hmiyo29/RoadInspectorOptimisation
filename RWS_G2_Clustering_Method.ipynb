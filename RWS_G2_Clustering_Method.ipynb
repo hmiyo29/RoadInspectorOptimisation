{
 "cells": [
  {
   "cell_type": "markdown",
   "id": "160f6d63-5b2d-4d77-876e-b1d8b7b5f78a",
   "metadata": {},
   "source": [
    "# General code for road network"
   ]
  },
  {
   "cell_type": "code",
   "execution_count": null,
   "id": "8aea3224-b7c2-4bd4-965a-db12cc3d3d3c",
   "metadata": {},
   "outputs": [],
   "source": [
    "import geopandas as gpd\n",
    "import folium \n",
    "import json"
   ]
  },
  {
   "cell_type": "code",
   "execution_count": null,
   "id": "11dcb3f5-8c84-42f8-8d3e-46c8ed3a3a7d",
   "metadata": {},
   "outputs": [],
   "source": [
    "%matplotlib inline\n",
    "import matplotlib.pyplot as plt\n",
    "import numpy as np\n",
    "import pandas as pd"
   ]
  },
  {
   "cell_type": "code",
   "execution_count": null,
   "id": "4a0cbfb1-af51-4d26-8df4-da99b2628b5a",
   "metadata": {},
   "outputs": [],
   "source": [
    "# Functions: Getting RWS network\n",
    "\n",
    "def DutchRDtoWGS84(rdX, rdY):\n",
    "    \"\"\" Convert DutchRD to WGS84\n",
    "    \"\"\"\n",
    "    RD_MINIMUM_X = 11000\n",
    "    RD_MAXIMUM_X = 280000\n",
    "    RD_MINIMUM_Y = 300000\n",
    "    RD_MAXIMUM_Y = 630000\n",
    "    if (rdX < RD_MINIMUM_X or rdX > RD_MAXIMUM_X\n",
    "        or rdY < RD_MINIMUM_Y or rdY > RD_MAXIMUM_Y):\n",
    "        resultNorth = -1\n",
    "        resultEast = -1\n",
    "        return resultNorth, resultEast\n",
    "    # else\n",
    "    dX = (rdX - 155000.0) / 100000.0\n",
    "    dY = (rdY - 463000.0) / 100000.0\n",
    "    k = [[3600 * 52.15517440, 3235.65389, -0.24750, -0.06550, 0.0],\n",
    "        [-0.00738   ,   -0.00012,  0.0    ,  0.0    , 0.0],\n",
    "        [-32.58297   ,   -0.84978, -0.01709, -0.00039, 0.0],\n",
    "        [0.0       ,    0.0    ,  0.0    ,  0.0    , 0.0],\n",
    "        [0.00530   ,    0.00033,  0.0    ,  0.0    , 0.0],\n",
    "        [0.0       ,    0.0    ,  0.0    ,  0.0    , 0.0]]\n",
    "    l = [[3600 * 5.38720621,    0.01199,  0.00022,  0.0    , 0.0],\n",
    "        [5260.52916   ,  105.94684,  2.45656,  0.05594, 0.00128],\n",
    "        [-0.00022   ,    0.0    ,  0.0    ,  0.0    , 0.0],\n",
    "        [-0.81885   ,   -0.05607, -0.00256,  0.0    , 0.0],\n",
    "        [0.0       ,    0.0    ,  0.0    ,  0.0    , 0.0],\n",
    "        [0.00026   ,    0.0    ,  0.0    ,  0.0    , 0.0]]\n",
    "    resultNorth = 0\n",
    "    resultEast = 0\n",
    "    powX = 1\n",
    "\n",
    "    for p in range(6):\n",
    "        powY = 1\n",
    "        for q in range(5):\n",
    "            resultNorth = resultNorth + k[p][q] * powX * powY / 3600.0\n",
    "            resultEast = resultEast + l[p][q] * powX * powY / 3600.0\n",
    "            powY = powY * dY\n",
    "        powX = powX * dX\n",
    "    return resultNorth, resultEast\n",
    "\n",
    "def WGS84toDutchRD(wgs84East, wgs84North):\n",
    "    # translated from Peter Knoppers's code\n",
    "\n",
    "    # wgs84East: longtitude\n",
    "    # wgs84North: latitude\n",
    "\n",
    "    # Western boundary of the Dutch RD system. */\n",
    "    WGS84_WEST_LIMIT = 3.2\n",
    "\n",
    "    # Eastern boundary of the Dutch RD system. */\n",
    "    WGS84_EAST_LIMIT = 7.3\n",
    "\n",
    "    # Northern boundary of the Dutch RD system. */\n",
    "    WGS84_SOUTH_LIMIT = 50.6\n",
    "\n",
    "    # Southern boundary of the Dutch RD system. */\n",
    "    WGS84_NORTH_LIMIT = 53.7\n",
    "\n",
    "    if (wgs84North > WGS84_NORTH_LIMIT) or \\\n",
    "        (wgs84North < WGS84_SOUTH_LIMIT) or \\\n",
    "        (wgs84East < WGS84_WEST_LIMIT) or \\\n",
    "        (wgs84East > WGS84_EAST_LIMIT):\n",
    "        resultX = -1\n",
    "        resultY = -1\n",
    "    else:\n",
    "        r = [[155000.00, 190094.945,   -0.008, -32.391, 0.0],\n",
    "            [-0.705, -11832.228,    0.0  ,   0.608, 0.0],\n",
    "            [0.0  ,   -114.221,    0.0  ,   0.148, 0.0],\n",
    "            [0.0  ,     -2.340,    0.0  ,   0.0  , 0.0],\n",
    "            [0.0  ,      0.0  ,    0.0  ,   0.0  , 0.0]]\n",
    "        s = [[463000.00 ,      0.433, 3638.893,   0.0  ,  0.092],\n",
    "            [309056.544,     -0.032, -157.984,   0.0  , -0.054],\n",
    "            [73.077,      0.0  ,   -6.439,   0.0  ,  0.0],\n",
    "            [59.788,      0.0  ,    0.0  ,   0.0  ,  0.0],\n",
    "            [0.0  ,      0.0  ,    0.0  ,   0.0  ,  0.0]]\n",
    "        resultX = 0\n",
    "        resultY = 0\n",
    "        powNorth = 1\n",
    "        dNorth = 0.36 * (wgs84North - 52.15517440)\n",
    "        dEast = 0.36 * (wgs84East - 5.38720621)\n",
    "\n",
    "        for p in range(5):\n",
    "            powEast = 1\n",
    "            for q in range(5):\n",
    "                resultX = resultX + r[p][q] * powEast * powNorth\n",
    "                resultY = resultY + s[p][q] * powEast * powNorth\n",
    "                powEast = powEast * dEast\n",
    "            powNorth = powNorth * dNorth\n",
    "    return resultX, resultY\n",
    "\n",
    "def calc_distance(line_wkt):\n",
    "    line = ogr.CreateGeometryFromWkt(line_wkt)\n",
    "    points = line.GetPoints()\n",
    "    d = 0\n",
    "    for p0, p1 in zip(points, points[1:]):\n",
    "        d = d + geodesic(p0, p1).m\n",
    "    return d\n",
    "\n",
    "if __name__==\"__main__\":\n",
    "    x, y = WGS84toDutchRD(4.33, 52.04)"
   ]
  },
  {
   "cell_type": "code",
   "execution_count": null,
   "id": "65439feb-2d0b-4bc0-b6b1-588782dbf489",
   "metadata": {},
   "outputs": [],
   "source": [
    "#Extract subnetwork\n",
    "highway_shapefile = 'Snelheid_Wegvakken.shp'\n",
    "network_temp = gpd.read_file(highway_shapefile)"
   ]
  },
  {
   "cell_type": "markdown",
   "id": "f9589552-3089-46d4-b665-99645ba342e2",
   "metadata": {},
   "source": [
    "# Method: Clustering"
   ]
  },
  {
   "cell_type": "code",
   "execution_count": null,
   "id": "593796c8-c773-468f-ac74-e1d48d6f7833",
   "metadata": {},
   "outputs": [],
   "source": [
    "from pyproj import Transformer\n",
    "from matplotlib.colors import ListedColormap"
   ]
  },
  {
   "cell_type": "code",
   "execution_count": null,
   "id": "b8a51d6e-7475-4c71-ab6d-99d6bf03f3a6",
   "metadata": {},
   "outputs": [],
   "source": [
    "n = 50\n",
    "inc = pd.read_csv('Incidents_clean.csv')"
   ]
  },
  {
   "cell_type": "code",
   "execution_count": null,
   "id": "a7ef14e5-f24b-4a0a-89e4-a6138d14c18e",
   "metadata": {},
   "outputs": [],
   "source": [
    "customcmap = ListedColormap([\"lightcoral\", \"firebrick\", \"darkred\", \"red\", \"coral\", \"orangered\", \"crimson\", \"sandybrown\", \"peru\", \"darkorange\", \"navajowhite\", \"moccasin\", \"orange\", \"darkgoldenrod\", \"gold\", \"darkkhaki\", \"olive\", \"yellow\", \"yellowgreen\", \"lawngreen\", \"darkseagreen\", \"palegreen\", \"green\", \"darkgreen\", \"springgreen\", \"aquamarine\", \"turquoise\", \"lightseagreen\", \"paleturquoise\", \"teal\", \"cyan\", \"cadetblue\", \"deepskyblue\", \"steelblue\", \"dodgerblue\", \"slategray\", \"midnightblue\", \"blue\", \"mediumslateblue\", \"mediumpurple\", \"blueviolet\", \"plum\", \"violet\", \"purple\", \"magenta\", \"deeppink\", \"pink\", \"mediumblue\", \"darkmagenta\", \"palevioletred\"])"
   ]
  },
  {
   "cell_type": "markdown",
   "id": "4491c13d-66df-4c90-8bac-81806892ac70",
   "metadata": {},
   "source": [
    "### 1. Clustering functions based on centroids"
   ]
  },
  {
   "cell_type": "code",
   "execution_count": null,
   "id": "bc3f23c6-424a-4cfe-b6a7-b15d86a2196c",
   "metadata": {},
   "outputs": [],
   "source": [
    "def initiate_centroids(n, list_inc):\n",
    "    u = list_inc.sample(n)\n",
    "    return u"
   ]
  },
  {
   "cell_type": "code",
   "execution_count": null,
   "id": "b2b22811-6d1b-402f-a753-e75742d6d799",
   "metadata": {},
   "outputs": [],
   "source": [
    "def calc_err(xy1, xy2):\n",
    "    return np.sqrt(np.sum((xy1 - xy2)**2))"
   ]
  },
  {
   "cell_type": "code",
   "execution_count": null,
   "id": "3c1c6978-55a4-4591-b5da-daa252b82aa2",
   "metadata": {},
   "outputs": [],
   "source": [
    "def centroid_assignation(list_inc, u):\n",
    "    n_i = len(list_inc)\n",
    "    centroid_near_inc = np.zeros(n_i)\n",
    "    centroid_error = np.zeros(n_i)\n",
    "\n",
    "    for i in range(n_i):\n",
    "        e = np.zeros(n)\n",
    "        for c in range(n):\n",
    "            e[c] = calc_err(u.iloc[c, :], list_inc.iloc[i,:])\n",
    "\n",
    "        centroid_near_inc[i] =  np.where(e==np.amin(e))[0].tolist()[0]\n",
    "        centroid_error[i] = np.amin(e)\n",
    "\n",
    "    return centroid_near_inc, centroid_error"
   ]
  },
  {
   "cell_type": "code",
   "execution_count": null,
   "id": "206440d7-0dbe-4e58-b0f5-ffdc8c36a211",
   "metadata": {},
   "outputs": [],
   "source": [
    "def clustering(list_inc, n=50, tol=1e-4):\n",
    "    new_list_inc = list_inc.copy()\n",
    "    iterations_error = []\n",
    "    continue_yn = True\n",
    "    iteration = 0\n",
    "    u_s = initiate_centroids(n, list_inc)\n",
    "\n",
    "    while(continue_yn):\n",
    "        # Step 3 and 4 - Assign centroids and calculate error\n",
    "        new_list_inc['centroid'], u_s_error = centroid_assignation(new_list_inc, u_s) \n",
    "        iterations_error.append(np.sum(u_s_error))\n",
    "        \n",
    "        # Step 5 - Update centroid position\n",
    "        centroids = new_list_inc.groupby('centroid').agg('mean').reset_index(drop = True)\n",
    "\n",
    "        # Step 6 - Restart the iteration\n",
    "        if iteration>0:\n",
    "            # Is the error less than a tolerance (1E-4)\n",
    "            if iterations_error[iteration - 1] - iterations_error[iteration] <= tol:\n",
    "                continue_yn = False\n",
    "        iteration+=1\n",
    "        print(iteration)\n",
    "\n",
    "    new_list_inc['centroid'], u_s_error = centroid_assignation(new_list_inc, u_s)\n",
    "    u_s = new_list_inc.groupby('centroid').agg('mean').reset_index(drop = True)\n",
    "    return new_list_inc['centroid'], u_s_error, u_s"
   ]
  },
  {
   "cell_type": "markdown",
   "id": "6853ea60-baf0-4aae-8d6e-06208d0d5c9f",
   "metadata": {},
   "source": [
    "### 2. Assignment of initial centroids"
   ]
  },
  {
   "cell_type": "code",
   "execution_count": null,
   "id": "094b155a-923d-445b-924e-8bff990f2a50",
   "metadata": {},
   "outputs": [],
   "source": [
    "inc_long_lat = inc[['primaire_locatie_breedtegraad', 'primaire_locatie_lengtegraad']]\n",
    "u0 = initiate_centroids(n, inc_long_lat)\n",
    "u0 = u0.reset_index(drop = True)"
   ]
  },
  {
   "cell_type": "code",
   "execution_count": null,
   "id": "7e30ddc2-4824-4961-b296-34adc62bf195",
   "metadata": {},
   "outputs": [],
   "source": [
    "inc_long_lat['centroid'], inc_long_lat['error'] = centroid_assignation(inc_long_lat, u0)"
   ]
  },
  {
   "cell_type": "code",
   "execution_count": null,
   "id": "1e276d7d-3408-48db-a07c-9dfd311b6a61",
   "metadata": {},
   "outputs": [],
   "source": [
    "coords = ['primaire_locatie_breedtegraad', 'primaire_locatie_lengtegraad']\n",
    "u1 = inc_long_lat.groupby('centroid').agg('mean').loc[:, coords].reset_index(drop = True)"
   ]
  },
  {
   "cell_type": "markdown",
   "id": "0618f087-4602-4e07-bc5e-b96dd92deed5",
   "metadata": {},
   "source": [
    "### 3. Clustering with iterations"
   ]
  },
  {
   "cell_type": "code",
   "execution_count": null,
   "id": "155abd94-3759-4075-bf2c-66a7a331998e",
   "metadata": {},
   "outputs": [],
   "source": [
    "inc_long_lat['centroid'], inc_long_lat['error'], u1 =  clustering(inc_long_lat[coords], n)"
   ]
  },
  {
   "cell_type": "markdown",
   "id": "57f463a1-ba35-46f0-9f3a-6140523ee524",
   "metadata": {},
   "source": [
    "### 4. Save and import files (to prevent running code again)"
   ]
  },
  {
   "cell_type": "code",
   "execution_count": null,
   "id": "48ddeac2-a700-40c4-9fab-8f648f31d3e7",
   "metadata": {},
   "outputs": [],
   "source": [
    "inc_long_lat.to_csv('incidents_clustered.csv')"
   ]
  },
  {
   "cell_type": "code",
   "execution_count": null,
   "id": "2c901f77-62fd-4e58-9353-29004297cfcc",
   "metadata": {},
   "outputs": [],
   "source": [
    "xy_c = np.zeros((n, 2))\n",
    "\n",
    "for xy in range(n):\n",
    "    xy_c[xy][0] = u1['primaire_locatie_breedtegraad'][xy]\n",
    "    xy_c[xy][1] = u1['primaire_locatie_lengtegraad'][xy]"
   ]
  },
  {
   "cell_type": "code",
   "execution_count": null,
   "id": "6a184e15-74b2-4b3d-8937-dbb1e6e687ab",
   "metadata": {},
   "outputs": [],
   "source": [
    "centroids_coords = pd.DataFrame(xy_c, columns=['breedtegraad', 'lengtegraad'])\n",
    "centroids_coords.to_csv('centroids_coords.csv')"
   ]
  },
  {
   "cell_type": "code",
   "execution_count": null,
   "id": "fe9beef1-1fff-4138-ab3e-12bf658bcd8c",
   "metadata": {},
   "outputs": [],
   "source": [
    "transformer1 = Transformer.from_crs(\"EPSG:4326\", \"EPSG:28992\")\n",
    "rds_xy = np.zeros((n, 2))\n",
    "\n",
    "t = transformer1.transform(xy_c['breedtegraad'], xy_c['lengtegraad'])\n",
    "rds_xy[:, 0] = t[0]\n",
    "rds_xy[:, 1] = t[1]"
   ]
  },
  {
   "cell_type": "code",
   "execution_count": null,
   "id": "2dc9c175-0d25-4c41-9169-280b547d010c",
   "metadata": {},
   "outputs": [],
   "source": [
    "centroids_rds = pd.DataFrame(rds_xy, columns=['breedtegraad', 'lengtegraad'])\n",
    "centroids_rds.to_csv('centroids_rds.csv')"
   ]
  },
  {
   "cell_type": "code",
   "execution_count": null,
   "id": "8e944731-3cbe-44ae-95c1-e55a64201dde",
   "metadata": {},
   "outputs": [],
   "source": [
    "new_ill = pd.read_csv('incidents_clustered.csv')\n",
    "new_cc = pd.read_csv('centroids_coords.csv')\n",
    "new_rds = pd.read_csv('centroids_rds.csv')"
   ]
  },
  {
   "cell_type": "markdown",
   "id": "44df122a-c19b-4d2f-a0da-8d9122e17eef",
   "metadata": {},
   "source": [
    "### 5. Plots of clustering based on centroids"
   ]
  },
  {
   "cell_type": "markdown",
   "id": "7a05adb7-92ed-466e-977f-e77dbc3d1bea",
   "metadata": {},
   "source": [
    "#### 5.1. Plot centroids on roadmap"
   ]
  },
  {
   "cell_type": "code",
   "execution_count": null,
   "id": "6ad8270d-bb78-442d-8a1a-39bd4d47971b",
   "metadata": {},
   "outputs": [],
   "source": []
  },
  {
   "cell_type": "code",
   "execution_count": null,
   "id": "39db1535-739a-45f2-b083-3cf661d84335",
   "metadata": {},
   "outputs": [],
   "source": [
    "network_temp.plot(figsize=(12, 10))\n",
    "plt.plot(new_rds['breedtegraad'], new_rds['lengtegraad'], 'ro');"
   ]
  },
  {
   "cell_type": "markdown",
   "id": "4610f126-8e10-4c08-b7e6-fa041b1871ad",
   "metadata": {},
   "source": [
    "#### 5.2. Plot incidents and centroids clustered"
   ]
  },
  {
   "cell_type": "code",
   "execution_count": null,
   "id": "5cd22df1-4a7f-49c0-8851-c97360afa130",
   "metadata": {},
   "outputs": [],
   "source": [
    "plt.figure(figsize=(160, 200))\n",
    "plt.scatter(new_ill['primaire_locatie_lengtegraad'], new_ill['primaire_locatie_breedtegraad'],  \n",
    "            marker = 'o', c=new_ill['centroid'].astype('category'), \n",
    "            cmap = customcmap, s=150, alpha=0.5)\n",
    "plt.scatter(new_cc['lengtegraad'], new_cc['breedtegraad'],  \n",
    "            marker = 's', s=2500, c=np.arange(0, 50, 1), \n",
    "            cmap = customcmap)"
   ]
  },
  {
   "cell_type": "markdown",
   "id": "e5b6e636-a620-4812-a3cc-a9db55f79d04",
   "metadata": {},
   "source": [
    "#### 5.3. Plot cluster sizes"
   ]
  },
  {
   "cell_type": "code",
   "execution_count": null,
   "id": "a701d01f-6a0f-4c90-9136-8c80f2990214",
   "metadata": {},
   "outputs": [],
   "source": [
    "number_inc_cluster = np.zeros(n)\n",
    "\n",
    "for i in range(n):\n",
    "    for j in range(len(new_ill['centroid'])):\n",
    "        if int(new_ill['centroid'][j]) == i:\n",
    "            number_inc_cluster[i] += 1\n",
    "        else:\n",
    "            number_inc_cluster[i] += 0"
   ]
  },
  {
   "cell_type": "code",
   "execution_count": null,
   "id": "4270353d-6798-4d32-8f6f-985cc012cd0b",
   "metadata": {},
   "outputs": [],
   "source": [
    "network_temp.plot(figsize=(160, 200), linewidth=5)\n",
    "\n",
    "plt.scatter(new_rds['breedtegraad'], new_rds['lengtegraad'],  \n",
    "            marker = 's', s=10*number_inc_cluster, c=np.arange(0, 50, 1), \n",
    "            cmap = customcmap)\n",
    "\n",
    "for t in range(n):\n",
    "    plt.text(new_rds['breedtegraad'][t] + 1000, new_rds['lengtegraad'][t] + 1000, str(int(number_inc_cluster[t])), size=100)"
   ]
  },
  {
   "cell_type": "markdown",
   "id": "0e37ae87-cfab-44df-9bf6-6cafd113d7e3",
   "metadata": {},
   "source": [
    "#### 5.4. Plot average speed of clusters (large approximations)"
   ]
  },
  {
   "cell_type": "code",
   "execution_count": null,
   "id": "27a4f977-8075-4682-9185-094814fe134b",
   "metadata": {},
   "outputs": [],
   "source": [
    "v = 80 #km/h\n",
    "factor = 2.6"
   ]
  },
  {
   "cell_type": "code",
   "execution_count": null,
   "id": "f558f92c-a334-436f-8d6d-f37910fbc487",
   "metadata": {},
   "outputs": [],
   "source": [
    "transformer2 = Transformer.from_crs(\"EPSG:28992\", \"EPSG:4326\")\n",
    "\n",
    "dist1 = np.zeros((n, 2))\n",
    "dist2 = np.zeros((len(new_ill['primaire_locatie_breedtegraad']), 2))\n",
    "\n",
    "t41 = transformer2.transform(new_cc['breedtegraad'], new_cc['lengtegraad'])\n",
    "t42 = transformer2.transform(new_ill['primaire_locatie_breedtegraad'], new_ill['primaire_locatie_lengtegraad'])\n",
    "\n",
    "dist1[:, 0] = t41[0]\n",
    "dist1[:, 1] = t41[1]\n",
    "dist2[:, 0] = t42[0]\n",
    "dist2[:, 1] = t42[1]"
   ]
  },
  {
   "cell_type": "code",
   "execution_count": null,
   "id": "c80eb263-fcf9-43e2-b108-da43df093acf",
   "metadata": {},
   "outputs": [],
   "source": [
    "tot_time = np.zeros(n)\n",
    "tot_points = np.zeros(n)\n",
    "av_time = np.zeros(n)\n",
    "\n",
    "for i in range(n):\n",
    "    for j in range(len(new_ill['primaire_locatie_lengtegraad'])):\n",
    "        if new_ill['centroid'][j] == i:\n",
    "            absolute_dist = np.sqrt((dist2[:, 1][j] - dist1[:, 1][i])**2 + (dist2[:, 0][j] - dist1[:, 0][i])**2)\n",
    "            tot_time[i] += absolute_dist * v * factor\n",
    "            tot_points[i] += 1\n",
    "        else:\n",
    "            tot_points[i] += 0\n",
    "    av_time[i] = tot_time[i] / tot_points[i] * 60 * 1000  # time in minutes"
   ]
  },
  {
   "cell_type": "code",
   "execution_count": null,
   "id": "81e396d3-f70c-4e65-aa8e-f7cfa9cb0117",
   "metadata": {},
   "outputs": [],
   "source": [
    "network_temp.plot(figsize=(160, 200), linewidth=5)\n",
    "\n",
    "plt.scatter(new_rds['breedtegraad'], new_rds['lengtegraad'],  \n",
    "            marker = 's', s=10*number_inc_cluster, c=np.arange(0, 50, 1), \n",
    "            cmap = customcmap)\n",
    "\n",
    "for t in range(n):\n",
    "    plt.text(new_rds['breedtegraad'][t] + 1000, new_rds['lengtegraad'][t] + 1000, f'{av_time[t]:.2f}', size=100)"
   ]
  }
 ],
 "metadata": {
  "kernelspec": {
   "display_name": "geospatial_tte",
   "language": "python",
   "name": "geospatialtte"
  },
  "language_info": {
   "codemirror_mode": {
    "name": "ipython",
    "version": 3
   },
   "file_extension": ".py",
   "mimetype": "text/x-python",
   "name": "python",
   "nbconvert_exporter": "python",
   "pygments_lexer": "ipython3",
   "version": "3.9.18"
  }
 },
 "nbformat": 4,
 "nbformat_minor": 5
}
